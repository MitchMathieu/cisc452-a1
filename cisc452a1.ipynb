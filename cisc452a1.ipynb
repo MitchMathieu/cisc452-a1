{
  "nbformat": 4,
  "nbformat_minor": 0,
  "metadata": {
    "colab": {
      "name": "cisc452a1.ipynb",
      "provenance": [],
      "collapsed_sections": [],
      "include_colab_link": true
    },
    "kernelspec": {
      "name": "python3",
      "display_name": "Python 3"
    }
  },
  "cells": [
    {
      "cell_type": "markdown",
      "metadata": {
        "id": "view-in-github",
        "colab_type": "text"
      },
      "source": [
        "<a href=\"https://colab.research.google.com/github/MitchMathieu/cisc452-a1/blob/master/cisc452a1.ipynb\" target=\"_parent\"><img src=\"https://colab.research.google.com/assets/colab-badge.svg\" alt=\"Open In Colab\"/></a>"
      ]
    },
    {
      "cell_type": "code",
      "metadata": {
        "id": "Bet8A48etKMD",
        "colab_type": "code",
        "colab": {}
      },
      "source": [
        "import numpy as np\n",
        "import pandas as pd\n",
        "from sklearn.metrics import confusion_matrix, precision_score, recall_score\n",
        "from tqdm import tqdm"
      ],
      "execution_count": 0,
      "outputs": []
    },
    {
      "cell_type": "markdown",
      "metadata": {
        "id": "HmP8kwk0ttMJ",
        "colab_type": "text"
      },
      "source": [
        "# Get Data"
      ]
    },
    {
      "cell_type": "code",
      "metadata": {
        "id": "qwbN6AkvmqaR",
        "colab_type": "code",
        "outputId": "e4963ff5-de68-4b87-f968-704a93d965e2",
        "colab": {
          "base_uri": "https://localhost:8080/",
          "height": 50
        }
      },
      "source": [
        "! git clone https://github.com/MitchMathieu/cisc452-a1.git\n",
        "! ls cisc452-a1"
      ],
      "execution_count": 2,
      "outputs": [
        {
          "output_type": "stream",
          "text": [
            "fatal: destination path 'cisc452-a1' already exists and is not an empty directory.\n",
            "iris_test.txt  iris_train.txt\n"
          ],
          "name": "stdout"
        }
      ]
    },
    {
      "cell_type": "markdown",
      "metadata": {
        "id": "kS-ni8IdXjOM",
        "colab_type": "text"
      },
      "source": [
        "**Data as an array**"
      ]
    },
    {
      "cell_type": "code",
      "metadata": {
        "id": "8WthoI5Y5nog",
        "colab_type": "code",
        "colab": {}
      },
      "source": [
        "train_inputs = []\n",
        "train_labels = []\n",
        "\n",
        "f = open(\"cisc452-a1/iris_train.txt\", 'r')\n",
        "for line in f:\n",
        "  line = line.rstrip().split(',')\n",
        "  train_inputs.append(np.array(line[:-1], dtype=np.float32))\n",
        "  train_labels.append(line[-1])\n",
        "\n",
        "\n",
        "test_inputs = []\n",
        "test_labels = []\n",
        "\n",
        "f = open(\"cisc452-a1/iris_test.txt\", 'r')\n",
        "for line in f:\n",
        "  line = line.rstrip().split(',')\n",
        "  test_inputs.append(np.array(line[:-1], dtype=np.float32))\n",
        "  test_labels.append(line[-1])"
      ],
      "execution_count": 0,
      "outputs": []
    },
    {
      "cell_type": "markdown",
      "metadata": {
        "id": "a5N8qwtmv4WY",
        "colab_type": "text"
      },
      "source": [
        "# Part One: Perceptron from Scratch\n",
        "\n",
        "\n"
      ]
    },
    {
      "cell_type": "code",
      "metadata": {
        "id": "EnWXQKQhSL2q",
        "colab_type": "code",
        "colab": {}
      },
      "source": [
        "class Perceptron(object):\n",
        "\n",
        "  def __init__(self, num_inputs, epochs, learning_rate):\n",
        "    self.epochs = epochs\n",
        "    self.learning_rate = learning_rate\n",
        "    self.weights = np.zeros((num_inputs + 1, 3))\n",
        "    # for pocket\n",
        "    \n",
        "  def cat_to_vector(self, label):\n",
        "    # one hot encode the flower type\n",
        "    if label == \"Iris-setosa\":\n",
        "      return np.array([1, 0, 0], dtype=np.float32)\n",
        "    elif label == \"Iris-versicolor\":\n",
        "      return np.array([0, 1, 0], dtype=np.float32)\n",
        "    elif label == \"Iris-virginica\":\n",
        "      return np.array([0, 0, 1], dtype=np.float32)\n",
        "    \n",
        "  def vector_to_cat(self, vec):\n",
        "    if np.array_equal(vec, [1, 0, 0]):\n",
        "      return \"Iris-setosa\"\n",
        "    elif np.array_equal(vec, [0, 1, 0]):\n",
        "      return \"Iris-versicolor\"\n",
        "    elif np.array_equal(vec, [0, 0, 1]):\n",
        "      return \"Iris-virginica\"\n",
        "    \n",
        "  def get_error(self, label, prediction):\n",
        "    # convert string label to vector\n",
        "    label_vec = self.cat_to_vector(label)\n",
        "    error = []\n",
        "    \n",
        "    for i in range(len(label_vec)):\n",
        "      error.append(label_vec[i]-prediction[i])\n",
        "      \n",
        "    return error\n",
        "    \n",
        "  def adjust_weights(self, error, inputs):\n",
        "    # adjust weights based on error\n",
        "    for i in range(len(error)):\n",
        "      for j, row in enumerate(self.weights):\n",
        "        row[i] += self.learning_rate * error[i] * inputs[j]\n",
        "\n",
        "  def predict(self, inputs):\n",
        "    # get net vector from dot prod of weights and input vec\n",
        "    net = np.dot(inputs, self.weights)\n",
        "    largest_sum = -1\n",
        "    pred = None\n",
        "    # three entries in net represent the sums at each of three output percepts  \n",
        "    for i, sum in enumerate(net):\n",
        "      if sum > largest_sum:\n",
        "        largest_sum = sum\n",
        "        pred = i\n",
        "    # create a prediction vector\n",
        "    Y = np.zeros(3)\n",
        "    Y[pred] = 1\n",
        "    # Y vec of 3 binary values representing fired/not fired for each percept\n",
        "    return Y\n",
        "\n",
        "  def train(self, training_inputs, labels):\n",
        "    pocket = self.weights\n",
        "    best_run = 0\n",
        "    current_run = 0\n",
        "    for _ in tqdm(range(self.epochs)):\n",
        "      # create one iterable from inputs and labels\n",
        "      for inputs, label in zip(training_inputs, labels):\n",
        "        # add x0 to the input vector\n",
        "        inputs = np.insert(inputs, 0, 1)\n",
        "        # predict and adjust weights\n",
        "        prediction = self.predict(inputs)\n",
        "        error = self.get_error(label, prediction)\n",
        "        # check the error and update the pocket\n",
        "        if np.array_equal(error, [0, 0, 0]):\n",
        "          current_run += 1\n",
        "        else:\n",
        "          if current_run > best_run:\n",
        "            best_run = current_run\n",
        "            pocket = self.weights\n",
        "          current_run = 0\n",
        "        self.adjust_weights(error, inputs)\n",
        "        \n",
        "    # after all training, set the weight equal to what's in the pocket\n",
        "    self.weights = pocket\n",
        "\n",
        "  def test(self, test_inputs, labels):\n",
        "    # open a file to write predictions to\n",
        "    output_file = open(\"predictions_perceptron.txt\", 'w')\n",
        "    predictions = []\n",
        "    \n",
        "    correct_predictions = 0.0\n",
        "    # create one iterable from inputs and labels\n",
        "    for inputs, label in zip(test_inputs, labels):\n",
        "      # add x0 to the input vector\n",
        "      inputs = np.insert(inputs, 0, 1)\n",
        "      # predict and write to file\n",
        "      prediction = self.predict(inputs)\n",
        "      # write prediction to output fileand append to list\n",
        "      output_file.write(f\"{str(inputs)},{self.vector_to_cat(prediction)}\\n\")\n",
        "      predictions.append(self.vector_to_cat(prediction))\n",
        "      # compare prediction to true label\n",
        "      desired_output = self.cat_to_vector(label)\n",
        "\n",
        "      if np.array_equal(prediction, desired_output):\n",
        "        correct_predictions += 1.0\n",
        "    \n",
        "    output_file.close()\n",
        "        \n",
        "    print(f\"Number of inputs: {len(test_inputs)}\")\n",
        "    print(f\"Correct predictions: {correct_predictions}\")\n",
        "    print(f\"Accuracy: {correct_predictions / float(len(labels))}%\")\n",
        "    return predictions"
      ],
      "execution_count": 0,
      "outputs": []
    },
    {
      "cell_type": "markdown",
      "metadata": {
        "id": "lEfaZ-wm4SbW",
        "colab_type": "text"
      },
      "source": [
        "## Training"
      ]
    },
    {
      "cell_type": "code",
      "metadata": {
        "id": "iefA-eK6gFkD",
        "colab_type": "code",
        "outputId": "dc277779-50f8-4b5e-bb6d-4a3f6989b2f2",
        "colab": {
          "base_uri": "https://localhost:8080/",
          "height": 34
        }
      },
      "source": [
        "# instantiate the perceptron class\n",
        "perceptron = Perceptron(4, 750, 0.5)\n",
        "\n",
        "#train train train \n",
        "perceptron.train(train_inputs, train_labels)"
      ],
      "execution_count": 5,
      "outputs": [
        {
          "output_type": "stream",
          "text": [
            "100%|██████████| 750/750 [00:07<00:00, 100.16it/s]\n"
          ],
          "name": "stderr"
        }
      ]
    },
    {
      "cell_type": "markdown",
      "metadata": {
        "id": "N2FzWflS0oe-",
        "colab_type": "text"
      },
      "source": [
        "## Testing"
      ]
    },
    {
      "cell_type": "code",
      "metadata": {
        "id": "CjGJhbPY0rWN",
        "colab_type": "code",
        "outputId": "1fa2b4a8-2233-48ea-fd36-cc475d5db6a4",
        "colab": {
          "base_uri": "https://localhost:8080/",
          "height": 67
        }
      },
      "source": [
        "perceptron_predictions = perceptron.test(test_inputs, test_labels)\n",
        "\n",
        "# need ot capture the data coming back"
      ],
      "execution_count": 6,
      "outputs": [
        {
          "output_type": "stream",
          "text": [
            "Number of inputs: 30\n",
            "Correct predictions: 29.0\n",
            "Accuracy: 0.9666666666666667%\n"
          ],
          "name": "stdout"
        }
      ]
    },
    {
      "cell_type": "code",
      "metadata": {
        "id": "f-M73ijn8-IX",
        "colab_type": "code",
        "colab": {
          "base_uri": "https://localhost:8080/",
          "height": 521
        },
        "outputId": "8665b186-9312-4d70-e4dc-9cc432d9450d"
      },
      "source": [
        "! cat predictions_perceptron.txt"
      ],
      "execution_count": 7,
      "outputs": [
        {
          "output_type": "stream",
          "text": [
            "[1.  5.1 3.5 1.4 0.2],Iris-setosa\n",
            "[1.  4.9 3.  1.4 0.2],Iris-setosa\n",
            "[1.  4.7 3.2 1.3 0.2],Iris-setosa\n",
            "[1.  4.6 3.1 1.5 0.2],Iris-setosa\n",
            "[1.  5.  3.6 1.4 0.2],Iris-setosa\n",
            "[1.  5.4 3.9 1.7 0.4],Iris-setosa\n",
            "[1.  4.6 3.4 1.4 0.3],Iris-setosa\n",
            "[1.  5.  3.4 1.5 0.2],Iris-setosa\n",
            "[1.  4.4 2.9 1.4 0.2],Iris-setosa\n",
            "[1.  4.9 3.1 1.5 0.1],Iris-setosa\n",
            "[1.  5.  2.  3.5 1. ],Iris-versicolor\n",
            "[1.  5.9 3.  4.2 1.5],Iris-versicolor\n",
            "[1.  6.  2.2 4.  1. ],Iris-versicolor\n",
            "[1.  6.1 2.9 4.7 1.4],Iris-versicolor\n",
            "[1.  5.6 2.9 3.6 1.3],Iris-versicolor\n",
            "[1.  6.7 3.1 4.4 1.4],Iris-versicolor\n",
            "[1.  5.6 3.  4.5 1.5],Iris-versicolor\n",
            "[1.  5.8 2.7 4.1 1. ],Iris-versicolor\n",
            "[1.  6.2 2.2 4.5 1.5],Iris-virginica\n",
            "[1.  5.6 2.5 3.9 1.1],Iris-versicolor\n",
            "[1.  6.1 3.  4.9 1.8],Iris-virginica\n",
            "[1.  6.4 2.8 5.6 2.1],Iris-virginica\n",
            "[1.  7.2 3.  5.8 1.6],Iris-virginica\n",
            "[1.  7.4 2.8 6.1 1.9],Iris-virginica\n",
            "[1.  7.9 3.8 6.4 2. ],Iris-virginica\n",
            "[1.  6.4 2.8 5.6 2.2],Iris-virginica\n",
            "[1.  6.3 2.8 5.1 1.5],Iris-virginica\n",
            "[1.  6.1 2.6 5.6 1.4],Iris-virginica\n",
            "[1.  7.7 3.  6.1 2.3],Iris-virginica\n",
            "[1.  6.3 3.4 5.6 2.4],Iris-virginica\n"
          ],
          "name": "stdout"
        }
      ]
    },
    {
      "cell_type": "markdown",
      "metadata": {
        "id": "qHBED_5KUS1d",
        "colab_type": "text"
      },
      "source": [
        "**Confusion Matrix**"
      ]
    },
    {
      "cell_type": "code",
      "metadata": {
        "id": "oXnKpf6HURoo",
        "colab_type": "code",
        "colab": {
          "base_uri": "https://localhost:8080/",
          "height": 101
        },
        "outputId": "b3299a3a-1039-476e-cd29-8faeb96bde06"
      },
      "source": [
        "cm = confusion_matrix(test_labels, \n",
        "                      perceptron_predictions, \n",
        "                      labels=[\"Iris-setosa\", \"Iris-versicolor\", \"Iris-virginica\"])\n",
        "\n",
        "precision = precision_score(test_labels, \n",
        "                            perceptron_predictions, \n",
        "                            labels=[\"Iris-setosa\", \"Iris-versicolor\", \"Iris-virginica\"], \n",
        "                            average='micro')\n",
        "\n",
        "recall = recall_score(test_labels, \n",
        "                      perceptron_predictions, \n",
        "                      labels=[\"Iris-setosa\", \"Iris-versicolor\", \"Iris-virginica\"], \n",
        "                      average='micro')\n",
        "\n",
        "print(cm)\n",
        "print(f\"Precision: {precision:.4f}\")\n",
        "print(f\"Recall: {recall:.4f}\")"
      ],
      "execution_count": 8,
      "outputs": [
        {
          "output_type": "stream",
          "text": [
            "[[10  0  0]\n",
            " [ 0  9  1]\n",
            " [ 0  0 10]]\n",
            "Precision: 0.9667\n",
            "Recall: 0.9667\n"
          ],
          "name": "stdout"
        }
      ]
    },
    {
      "cell_type": "markdown",
      "metadata": {
        "id": "9Q-_yp9Kbzt4",
        "colab_type": "text"
      },
      "source": [
        "# Part Two: Using ANN Libraries"
      ]
    },
    {
      "cell_type": "code",
      "metadata": {
        "id": "28VU0vFN--8f",
        "colab_type": "code",
        "colab": {
          "base_uri": "https://localhost:8080/",
          "height": 34
        },
        "outputId": "20ab5743-570f-43d6-94b0-ba433e0f5e1b"
      },
      "source": [
        "from sklearn.preprocessing import OneHotEncoder\n",
        "from keras.models import Sequential\n",
        "from keras.layers import Dense\n",
        "from keras.optimizers import Adam"
      ],
      "execution_count": 9,
      "outputs": [
        {
          "output_type": "stream",
          "text": [
            "Using TensorFlow backend.\n"
          ],
          "name": "stderr"
        }
      ]
    },
    {
      "cell_type": "markdown",
      "metadata": {
        "id": "3d5hhWIZLLuV",
        "colab_type": "text"
      },
      "source": [
        "**Getting Data**"
      ]
    },
    {
      "cell_type": "code",
      "metadata": {
        "id": "AEqFxbIGB-IZ",
        "colab_type": "code",
        "colab": {}
      },
      "source": [
        "train = pd.read_csv(\"cisc452-a1/iris_train.txt\", header=None)\n",
        "test = pd.read_csv(\"cisc452-a1/iris_test.txt\", header=None)\n",
        "\n",
        "x_train = train.iloc[:,0:4]\n",
        "y_train = train.iloc[:,4]\n",
        "x_test = test.iloc[:,0:4]\n",
        "y_test = test.iloc[:,4]"
      ],
      "execution_count": 0,
      "outputs": []
    },
    {
      "cell_type": "markdown",
      "metadata": {
        "id": "qK7YsGxBXi71",
        "colab_type": "text"
      },
      "source": [
        "**Convert categorical labels to 3-dimensional vectors**"
      ]
    },
    {
      "cell_type": "code",
      "metadata": {
        "id": "GWYjM5zLNYW_",
        "colab_type": "code",
        "colab": {}
      },
      "source": [
        "y_train = pd.get_dummies(y_train)\n",
        "y_test = pd.get_dummies(y_test)"
      ],
      "execution_count": 0,
      "outputs": []
    },
    {
      "cell_type": "markdown",
      "metadata": {
        "id": "_ta1r1rtNc89",
        "colab_type": "text"
      },
      "source": [
        "## Training the model"
      ]
    },
    {
      "cell_type": "markdown",
      "metadata": {
        "id": "7qLdh9XKLDqo",
        "colab_type": "text"
      },
      "source": [
        "**Make the model**"
      ]
    },
    {
      "cell_type": "code",
      "metadata": {
        "id": "LrP-ihpENzGY",
        "colab_type": "code",
        "colab": {
          "base_uri": "https://localhost:8080/",
          "height": 440
        },
        "outputId": "428af743-1c4d-44c0-f90a-8819624d068d"
      },
      "source": [
        "model = Sequential()\n",
        "\n",
        "model.add(Dense(10, input_shape=(4,), activation='relu', name='l1'))\n",
        "model.add(Dense(3, activation='softmax', name='output'))\n",
        "\n",
        "optimizer = Adam(lr=0.001)\n",
        "model.compile(optimizer, loss='categorical_crossentropy', metrics=['accuracy'])\n",
        "\n",
        "print('Neural Network Model Summary: ')\n",
        "print(model.summary())"
      ],
      "execution_count": 12,
      "outputs": [
        {
          "output_type": "stream",
          "text": [
            "WARNING:tensorflow:From /usr/local/lib/python3.6/dist-packages/keras/backend/tensorflow_backend.py:66: The name tf.get_default_graph is deprecated. Please use tf.compat.v1.get_default_graph instead.\n",
            "\n",
            "WARNING:tensorflow:From /usr/local/lib/python3.6/dist-packages/keras/backend/tensorflow_backend.py:541: The name tf.placeholder is deprecated. Please use tf.compat.v1.placeholder instead.\n",
            "\n",
            "WARNING:tensorflow:From /usr/local/lib/python3.6/dist-packages/keras/backend/tensorflow_backend.py:4432: The name tf.random_uniform is deprecated. Please use tf.random.uniform instead.\n",
            "\n",
            "WARNING:tensorflow:From /usr/local/lib/python3.6/dist-packages/keras/optimizers.py:793: The name tf.train.Optimizer is deprecated. Please use tf.compat.v1.train.Optimizer instead.\n",
            "\n",
            "WARNING:tensorflow:From /usr/local/lib/python3.6/dist-packages/keras/backend/tensorflow_backend.py:3576: The name tf.log is deprecated. Please use tf.math.log instead.\n",
            "\n",
            "Neural Network Model Summary: \n",
            "Model: \"sequential_1\"\n",
            "_________________________________________________________________\n",
            "Layer (type)                 Output Shape              Param #   \n",
            "=================================================================\n",
            "l1 (Dense)                   (None, 10)                50        \n",
            "_________________________________________________________________\n",
            "output (Dense)               (None, 3)                 33        \n",
            "=================================================================\n",
            "Total params: 83\n",
            "Trainable params: 83\n",
            "Non-trainable params: 0\n",
            "_________________________________________________________________\n",
            "None\n"
          ],
          "name": "stdout"
        }
      ]
    },
    {
      "cell_type": "code",
      "metadata": {
        "id": "W6eCqpZdNymY",
        "colab_type": "code",
        "colab": {
          "base_uri": "https://localhost:8080/",
          "height": 1000
        },
        "outputId": "79410be5-3adf-4234-d168-179321ec4a2c"
      },
      "source": [
        "model.fit(x_train, y_train, verbose=1, batch_size=5, epochs=200)"
      ],
      "execution_count": 13,
      "outputs": [
        {
          "output_type": "stream",
          "text": [
            "WARNING:tensorflow:From /usr/local/lib/python3.6/dist-packages/tensorflow/python/ops/math_grad.py:1250: add_dispatch_support.<locals>.wrapper (from tensorflow.python.ops.array_ops) is deprecated and will be removed in a future version.\n",
            "Instructions for updating:\n",
            "Use tf.where in 2.0, which has the same broadcast rule as np.where\n",
            "WARNING:tensorflow:From /usr/local/lib/python3.6/dist-packages/keras/backend/tensorflow_backend.py:1033: The name tf.assign_add is deprecated. Please use tf.compat.v1.assign_add instead.\n",
            "\n",
            "Epoch 1/200\n",
            "120/120 [==============================] - 0s 2ms/step - loss: 1.1859 - acc: 0.6250\n",
            "Epoch 2/200\n",
            "120/120 [==============================] - 0s 246us/step - loss: 0.8919 - acc: 0.6667\n",
            "Epoch 3/200\n",
            "120/120 [==============================] - 0s 231us/step - loss: 0.7573 - acc: 0.6667\n",
            "Epoch 4/200\n",
            "120/120 [==============================] - 0s 230us/step - loss: 0.7097 - acc: 0.6667\n",
            "Epoch 5/200\n",
            "120/120 [==============================] - 0s 256us/step - loss: 0.6830 - acc: 0.6917\n",
            "Epoch 6/200\n",
            "120/120 [==============================] - 0s 299us/step - loss: 0.6613 - acc: 0.6833\n",
            "Epoch 7/200\n",
            "120/120 [==============================] - 0s 323us/step - loss: 0.6412 - acc: 0.6833\n",
            "Epoch 8/200\n",
            "120/120 [==============================] - 0s 347us/step - loss: 0.6230 - acc: 0.7167\n",
            "Epoch 9/200\n",
            "120/120 [==============================] - 0s 312us/step - loss: 0.6067 - acc: 0.7333\n",
            "Epoch 10/200\n",
            "120/120 [==============================] - 0s 448us/step - loss: 0.5920 - acc: 0.7500\n",
            "Epoch 11/200\n",
            "120/120 [==============================] - 0s 295us/step - loss: 0.5797 - acc: 0.7750\n",
            "Epoch 12/200\n",
            "120/120 [==============================] - 0s 320us/step - loss: 0.5643 - acc: 0.7667\n",
            "Epoch 13/200\n",
            "120/120 [==============================] - 0s 298us/step - loss: 0.5549 - acc: 0.7417\n",
            "Epoch 14/200\n",
            "120/120 [==============================] - 0s 344us/step - loss: 0.5418 - acc: 0.7833\n",
            "Epoch 15/200\n",
            "120/120 [==============================] - 0s 337us/step - loss: 0.5313 - acc: 0.7833\n",
            "Epoch 16/200\n",
            "120/120 [==============================] - 0s 319us/step - loss: 0.5198 - acc: 0.8417\n",
            "Epoch 17/200\n",
            "120/120 [==============================] - 0s 265us/step - loss: 0.5126 - acc: 0.8417\n",
            "Epoch 18/200\n",
            "120/120 [==============================] - 0s 234us/step - loss: 0.5007 - acc: 0.8417\n",
            "Epoch 19/200\n",
            "120/120 [==============================] - 0s 266us/step - loss: 0.4918 - acc: 0.8750\n",
            "Epoch 20/200\n",
            "120/120 [==============================] - 0s 298us/step - loss: 0.4828 - acc: 0.9083\n",
            "Epoch 21/200\n",
            "120/120 [==============================] - 0s 247us/step - loss: 0.4749 - acc: 0.9167\n",
            "Epoch 22/200\n",
            "120/120 [==============================] - 0s 282us/step - loss: 0.4665 - acc: 0.9167\n",
            "Epoch 23/200\n",
            "120/120 [==============================] - 0s 239us/step - loss: 0.4574 - acc: 0.9250\n",
            "Epoch 24/200\n",
            "120/120 [==============================] - 0s 313us/step - loss: 0.4505 - acc: 0.9083\n",
            "Epoch 25/200\n",
            "120/120 [==============================] - 0s 266us/step - loss: 0.4420 - acc: 0.9333\n",
            "Epoch 26/200\n",
            "120/120 [==============================] - 0s 262us/step - loss: 0.4343 - acc: 0.9250\n",
            "Epoch 27/200\n",
            "120/120 [==============================] - 0s 251us/step - loss: 0.4315 - acc: 0.9500\n",
            "Epoch 28/200\n",
            "120/120 [==============================] - 0s 310us/step - loss: 0.4205 - acc: 0.9333\n",
            "Epoch 29/200\n",
            "120/120 [==============================] - 0s 249us/step - loss: 0.4129 - acc: 0.9417\n",
            "Epoch 30/200\n",
            "120/120 [==============================] - 0s 262us/step - loss: 0.4052 - acc: 0.9500\n",
            "Epoch 31/200\n",
            "120/120 [==============================] - 0s 263us/step - loss: 0.3983 - acc: 0.9667\n",
            "Epoch 32/200\n",
            "120/120 [==============================] - 0s 226us/step - loss: 0.3919 - acc: 0.9583\n",
            "Epoch 33/200\n",
            "120/120 [==============================] - 0s 255us/step - loss: 0.3880 - acc: 0.9417\n",
            "Epoch 34/200\n",
            "120/120 [==============================] - 0s 262us/step - loss: 0.3796 - acc: 0.9583\n",
            "Epoch 35/200\n",
            "120/120 [==============================] - 0s 259us/step - loss: 0.3719 - acc: 0.9667\n",
            "Epoch 36/200\n",
            "120/120 [==============================] - 0s 252us/step - loss: 0.3657 - acc: 0.9667\n",
            "Epoch 37/200\n",
            "120/120 [==============================] - 0s 297us/step - loss: 0.3627 - acc: 0.9667\n",
            "Epoch 38/200\n",
            "120/120 [==============================] - 0s 288us/step - loss: 0.3535 - acc: 0.9667\n",
            "Epoch 39/200\n",
            "120/120 [==============================] - 0s 255us/step - loss: 0.3487 - acc: 0.9667\n",
            "Epoch 40/200\n",
            "120/120 [==============================] - 0s 241us/step - loss: 0.3417 - acc: 0.9667\n",
            "Epoch 41/200\n",
            "120/120 [==============================] - 0s 274us/step - loss: 0.3359 - acc: 0.9667\n",
            "Epoch 42/200\n",
            "120/120 [==============================] - 0s 239us/step - loss: 0.3314 - acc: 0.9667\n",
            "Epoch 43/200\n",
            "120/120 [==============================] - 0s 231us/step - loss: 0.3242 - acc: 0.9667\n",
            "Epoch 44/200\n",
            "120/120 [==============================] - 0s 292us/step - loss: 0.3219 - acc: 0.9750\n",
            "Epoch 45/200\n",
            "120/120 [==============================] - 0s 288us/step - loss: 0.3129 - acc: 0.9750\n",
            "Epoch 46/200\n",
            "120/120 [==============================] - 0s 248us/step - loss: 0.3083 - acc: 0.9667\n",
            "Epoch 47/200\n",
            "120/120 [==============================] - 0s 247us/step - loss: 0.3023 - acc: 0.9750\n",
            "Epoch 48/200\n",
            "120/120 [==============================] - 0s 228us/step - loss: 0.2979 - acc: 0.9750\n",
            "Epoch 49/200\n",
            "120/120 [==============================] - 0s 263us/step - loss: 0.2917 - acc: 0.9750\n",
            "Epoch 50/200\n",
            "120/120 [==============================] - 0s 310us/step - loss: 0.2867 - acc: 0.9833\n",
            "Epoch 51/200\n",
            "120/120 [==============================] - 0s 287us/step - loss: 0.2813 - acc: 0.9833\n",
            "Epoch 52/200\n",
            "120/120 [==============================] - 0s 257us/step - loss: 0.2786 - acc: 0.9750\n",
            "Epoch 53/200\n",
            "120/120 [==============================] - 0s 280us/step - loss: 0.2729 - acc: 0.9833\n",
            "Epoch 54/200\n",
            "120/120 [==============================] - 0s 239us/step - loss: 0.2677 - acc: 0.9833\n",
            "Epoch 55/200\n",
            "120/120 [==============================] - 0s 235us/step - loss: 0.2630 - acc: 0.9833\n",
            "Epoch 56/200\n",
            "120/120 [==============================] - 0s 265us/step - loss: 0.2585 - acc: 0.9833\n",
            "Epoch 57/200\n",
            "120/120 [==============================] - 0s 280us/step - loss: 0.2561 - acc: 0.9833\n",
            "Epoch 58/200\n",
            "120/120 [==============================] - 0s 271us/step - loss: 0.2510 - acc: 0.9833\n",
            "Epoch 59/200\n",
            "120/120 [==============================] - 0s 268us/step - loss: 0.2499 - acc: 0.9667\n",
            "Epoch 60/200\n",
            "120/120 [==============================] - 0s 270us/step - loss: 0.2458 - acc: 0.9833\n",
            "Epoch 61/200\n",
            "120/120 [==============================] - 0s 272us/step - loss: 0.2397 - acc: 0.9750\n",
            "Epoch 62/200\n",
            "120/120 [==============================] - 0s 249us/step - loss: 0.2337 - acc: 0.9833\n",
            "Epoch 63/200\n",
            "120/120 [==============================] - 0s 263us/step - loss: 0.2307 - acc: 0.9833\n",
            "Epoch 64/200\n",
            "120/120 [==============================] - 0s 264us/step - loss: 0.2263 - acc: 0.9833\n",
            "Epoch 65/200\n",
            "120/120 [==============================] - 0s 238us/step - loss: 0.2251 - acc: 0.9750\n",
            "Epoch 66/200\n",
            "120/120 [==============================] - 0s 230us/step - loss: 0.2203 - acc: 0.9833\n",
            "Epoch 67/200\n",
            "120/120 [==============================] - 0s 262us/step - loss: 0.2155 - acc: 0.9833\n",
            "Epoch 68/200\n",
            "120/120 [==============================] - 0s 240us/step - loss: 0.2136 - acc: 0.9833\n",
            "Epoch 69/200\n",
            "120/120 [==============================] - 0s 250us/step - loss: 0.2106 - acc: 0.9833\n",
            "Epoch 70/200\n",
            "120/120 [==============================] - 0s 231us/step - loss: 0.2065 - acc: 0.9833\n",
            "Epoch 71/200\n",
            "120/120 [==============================] - 0s 273us/step - loss: 0.2038 - acc: 0.9833\n",
            "Epoch 72/200\n",
            "120/120 [==============================] - 0s 232us/step - loss: 0.2006 - acc: 0.9750\n",
            "Epoch 73/200\n",
            "120/120 [==============================] - 0s 229us/step - loss: 0.1969 - acc: 0.9833\n",
            "Epoch 74/200\n",
            "120/120 [==============================] - 0s 271us/step - loss: 0.1942 - acc: 0.9833\n",
            "Epoch 75/200\n",
            "120/120 [==============================] - 0s 264us/step - loss: 0.1904 - acc: 0.9833\n",
            "Epoch 76/200\n",
            "120/120 [==============================] - 0s 238us/step - loss: 0.1897 - acc: 0.9833\n",
            "Epoch 77/200\n",
            "120/120 [==============================] - 0s 242us/step - loss: 0.1861 - acc: 0.9833\n",
            "Epoch 78/200\n",
            "120/120 [==============================] - 0s 248us/step - loss: 0.1825 - acc: 0.9833\n",
            "Epoch 79/200\n",
            "120/120 [==============================] - 0s 236us/step - loss: 0.1802 - acc: 0.9833\n",
            "Epoch 80/200\n",
            "120/120 [==============================] - 0s 234us/step - loss: 0.1781 - acc: 0.9833\n",
            "Epoch 81/200\n",
            "120/120 [==============================] - 0s 262us/step - loss: 0.1780 - acc: 0.9750\n",
            "Epoch 82/200\n",
            "120/120 [==============================] - 0s 242us/step - loss: 0.1730 - acc: 0.9833\n",
            "Epoch 83/200\n",
            "120/120 [==============================] - 0s 275us/step - loss: 0.1701 - acc: 0.9833\n",
            "Epoch 84/200\n",
            "120/120 [==============================] - 0s 242us/step - loss: 0.1674 - acc: 0.9833\n",
            "Epoch 85/200\n",
            "120/120 [==============================] - 0s 237us/step - loss: 0.1657 - acc: 0.9833\n",
            "Epoch 86/200\n",
            "120/120 [==============================] - 0s 271us/step - loss: 0.1635 - acc: 0.9833\n",
            "Epoch 87/200\n",
            "120/120 [==============================] - 0s 267us/step - loss: 0.1612 - acc: 0.9833\n",
            "Epoch 88/200\n",
            "120/120 [==============================] - 0s 240us/step - loss: 0.1590 - acc: 0.9833\n",
            "Epoch 89/200\n",
            "120/120 [==============================] - 0s 289us/step - loss: 0.1576 - acc: 0.9833\n",
            "Epoch 90/200\n",
            "120/120 [==============================] - 0s 244us/step - loss: 0.1582 - acc: 0.9750\n",
            "Epoch 91/200\n",
            "120/120 [==============================] - 0s 236us/step - loss: 0.1530 - acc: 0.9833\n",
            "Epoch 92/200\n",
            "120/120 [==============================] - 0s 238us/step - loss: 0.1537 - acc: 0.9833\n",
            "Epoch 93/200\n",
            "120/120 [==============================] - 0s 232us/step - loss: 0.1526 - acc: 0.9833\n",
            "Epoch 94/200\n",
            "120/120 [==============================] - 0s 234us/step - loss: 0.1488 - acc: 0.9750\n",
            "Epoch 95/200\n",
            "120/120 [==============================] - 0s 242us/step - loss: 0.1458 - acc: 0.9833\n",
            "Epoch 96/200\n",
            "120/120 [==============================] - 0s 251us/step - loss: 0.1436 - acc: 0.9833\n",
            "Epoch 97/200\n",
            "120/120 [==============================] - 0s 229us/step - loss: 0.1449 - acc: 0.9750\n",
            "Epoch 98/200\n",
            "120/120 [==============================] - 0s 248us/step - loss: 0.1396 - acc: 0.9833\n",
            "Epoch 99/200\n",
            "120/120 [==============================] - 0s 231us/step - loss: 0.1417 - acc: 0.9750\n",
            "Epoch 100/200\n",
            "120/120 [==============================] - 0s 248us/step - loss: 0.1397 - acc: 0.9667\n",
            "Epoch 101/200\n",
            "120/120 [==============================] - 0s 267us/step - loss: 0.1358 - acc: 0.9833\n",
            "Epoch 102/200\n",
            "120/120 [==============================] - 0s 270us/step - loss: 0.1361 - acc: 0.9833\n",
            "Epoch 103/200\n",
            "120/120 [==============================] - 0s 269us/step - loss: 0.1332 - acc: 0.9833\n",
            "Epoch 104/200\n",
            "120/120 [==============================] - 0s 234us/step - loss: 0.1312 - acc: 0.9833\n",
            "Epoch 105/200\n",
            "120/120 [==============================] - 0s 246us/step - loss: 0.1294 - acc: 0.9833\n",
            "Epoch 106/200\n",
            "120/120 [==============================] - 0s 280us/step - loss: 0.1283 - acc: 0.9833\n",
            "Epoch 107/200\n",
            "120/120 [==============================] - 0s 225us/step - loss: 0.1302 - acc: 0.9833\n",
            "Epoch 108/200\n",
            "120/120 [==============================] - 0s 293us/step - loss: 0.1271 - acc: 0.9750\n",
            "Epoch 109/200\n",
            "120/120 [==============================] - 0s 252us/step - loss: 0.1245 - acc: 0.9833\n",
            "Epoch 110/200\n",
            "120/120 [==============================] - 0s 284us/step - loss: 0.1243 - acc: 0.9750\n",
            "Epoch 111/200\n",
            "120/120 [==============================] - 0s 240us/step - loss: 0.1220 - acc: 0.9833\n",
            "Epoch 112/200\n",
            "120/120 [==============================] - 0s 265us/step - loss: 0.1210 - acc: 0.9833\n",
            "Epoch 113/200\n",
            "120/120 [==============================] - 0s 236us/step - loss: 0.1215 - acc: 0.9833\n",
            "Epoch 114/200\n",
            "120/120 [==============================] - 0s 243us/step - loss: 0.1182 - acc: 0.9833\n",
            "Epoch 115/200\n",
            "120/120 [==============================] - 0s 250us/step - loss: 0.1165 - acc: 0.9833\n",
            "Epoch 116/200\n",
            "120/120 [==============================] - 0s 269us/step - loss: 0.1169 - acc: 0.9833\n",
            "Epoch 117/200\n",
            "120/120 [==============================] - 0s 257us/step - loss: 0.1151 - acc: 0.9833\n",
            "Epoch 118/200\n",
            "120/120 [==============================] - 0s 292us/step - loss: 0.1133 - acc: 0.9833\n",
            "Epoch 119/200\n",
            "120/120 [==============================] - 0s 350us/step - loss: 0.1127 - acc: 0.9833\n",
            "Epoch 120/200\n",
            "120/120 [==============================] - 0s 315us/step - loss: 0.1112 - acc: 0.9833\n",
            "Epoch 121/200\n",
            "120/120 [==============================] - 0s 323us/step - loss: 0.1129 - acc: 0.9750\n",
            "Epoch 122/200\n",
            "120/120 [==============================] - 0s 332us/step - loss: 0.1108 - acc: 0.9833\n",
            "Epoch 123/200\n",
            "120/120 [==============================] - 0s 333us/step - loss: 0.1096 - acc: 0.9833\n",
            "Epoch 124/200\n",
            "120/120 [==============================] - 0s 343us/step - loss: 0.1076 - acc: 0.9833\n",
            "Epoch 125/200\n",
            "120/120 [==============================] - 0s 238us/step - loss: 0.1069 - acc: 0.9833\n",
            "Epoch 126/200\n",
            "120/120 [==============================] - 0s 268us/step - loss: 0.1061 - acc: 0.9833\n",
            "Epoch 127/200\n",
            "120/120 [==============================] - 0s 241us/step - loss: 0.1052 - acc: 0.9833\n",
            "Epoch 128/200\n",
            "120/120 [==============================] - 0s 237us/step - loss: 0.1039 - acc: 0.9833\n",
            "Epoch 129/200\n",
            "120/120 [==============================] - 0s 245us/step - loss: 0.1051 - acc: 0.9833\n",
            "Epoch 130/200\n",
            "120/120 [==============================] - 0s 284us/step - loss: 0.1033 - acc: 0.9833\n",
            "Epoch 131/200\n",
            "120/120 [==============================] - 0s 282us/step - loss: 0.1012 - acc: 0.9833\n",
            "Epoch 132/200\n",
            "120/120 [==============================] - 0s 240us/step - loss: 0.1009 - acc: 0.9833\n",
            "Epoch 133/200\n",
            "120/120 [==============================] - 0s 255us/step - loss: 0.1006 - acc: 0.9833\n",
            "Epoch 134/200\n",
            "120/120 [==============================] - 0s 274us/step - loss: 0.0988 - acc: 0.9833\n",
            "Epoch 135/200\n",
            "120/120 [==============================] - 0s 251us/step - loss: 0.1008 - acc: 0.9833\n",
            "Epoch 136/200\n",
            "120/120 [==============================] - 0s 240us/step - loss: 0.0980 - acc: 0.9833\n",
            "Epoch 137/200\n",
            "120/120 [==============================] - 0s 305us/step - loss: 0.0975 - acc: 0.9833\n",
            "Epoch 138/200\n",
            "120/120 [==============================] - 0s 279us/step - loss: 0.0963 - acc: 0.9833\n",
            "Epoch 139/200\n",
            "120/120 [==============================] - 0s 259us/step - loss: 0.0971 - acc: 0.9833\n",
            "Epoch 140/200\n",
            "120/120 [==============================] - 0s 255us/step - loss: 0.0959 - acc: 0.9833\n",
            "Epoch 141/200\n",
            "120/120 [==============================] - 0s 241us/step - loss: 0.0938 - acc: 0.9833\n",
            "Epoch 142/200\n",
            "120/120 [==============================] - 0s 229us/step - loss: 0.0940 - acc: 0.9750\n",
            "Epoch 143/200\n",
            "120/120 [==============================] - 0s 256us/step - loss: 0.0947 - acc: 0.9833\n",
            "Epoch 144/200\n",
            "120/120 [==============================] - 0s 255us/step - loss: 0.0923 - acc: 0.9833\n",
            "Epoch 145/200\n",
            "120/120 [==============================] - 0s 270us/step - loss: 0.0911 - acc: 0.9833\n",
            "Epoch 146/200\n",
            "120/120 [==============================] - 0s 257us/step - loss: 0.0913 - acc: 0.9833\n",
            "Epoch 147/200\n",
            "120/120 [==============================] - 0s 260us/step - loss: 0.0910 - acc: 0.9750\n",
            "Epoch 148/200\n",
            "120/120 [==============================] - 0s 287us/step - loss: 0.0907 - acc: 0.9833\n",
            "Epoch 149/200\n",
            "120/120 [==============================] - 0s 236us/step - loss: 0.0926 - acc: 0.9750\n",
            "Epoch 150/200\n",
            "120/120 [==============================] - 0s 254us/step - loss: 0.0896 - acc: 0.9833\n",
            "Epoch 151/200\n",
            "120/120 [==============================] - 0s 237us/step - loss: 0.0881 - acc: 0.9833\n",
            "Epoch 152/200\n",
            "120/120 [==============================] - 0s 248us/step - loss: 0.0876 - acc: 0.9833\n",
            "Epoch 153/200\n",
            "120/120 [==============================] - 0s 275us/step - loss: 0.0871 - acc: 0.9833\n",
            "Epoch 154/200\n",
            "120/120 [==============================] - 0s 261us/step - loss: 0.0863 - acc: 0.9833\n",
            "Epoch 155/200\n",
            "120/120 [==============================] - 0s 263us/step - loss: 0.0860 - acc: 0.9833\n",
            "Epoch 156/200\n",
            "120/120 [==============================] - 0s 280us/step - loss: 0.0854 - acc: 0.9833\n",
            "Epoch 157/200\n",
            "120/120 [==============================] - 0s 280us/step - loss: 0.0857 - acc: 0.9833\n",
            "Epoch 158/200\n",
            "120/120 [==============================] - 0s 252us/step - loss: 0.0843 - acc: 0.9833\n",
            "Epoch 159/200\n",
            "120/120 [==============================] - 0s 273us/step - loss: 0.0847 - acc: 0.9833\n",
            "Epoch 160/200\n",
            "120/120 [==============================] - 0s 280us/step - loss: 0.0834 - acc: 0.9833\n",
            "Epoch 161/200\n",
            "120/120 [==============================] - 0s 270us/step - loss: 0.0843 - acc: 0.9750\n",
            "Epoch 162/200\n",
            "120/120 [==============================] - 0s 247us/step - loss: 0.0822 - acc: 0.9833\n",
            "Epoch 163/200\n",
            "120/120 [==============================] - 0s 293us/step - loss: 0.0819 - acc: 0.9833\n",
            "Epoch 164/200\n",
            "120/120 [==============================] - 0s 241us/step - loss: 0.0819 - acc: 0.9833\n",
            "Epoch 165/200\n",
            "120/120 [==============================] - 0s 255us/step - loss: 0.0823 - acc: 0.9833\n",
            "Epoch 166/200\n",
            "120/120 [==============================] - 0s 270us/step - loss: 0.0811 - acc: 0.9833\n",
            "Epoch 167/200\n",
            "120/120 [==============================] - 0s 244us/step - loss: 0.0831 - acc: 0.9750\n",
            "Epoch 168/200\n",
            "120/120 [==============================] - 0s 269us/step - loss: 0.0805 - acc: 0.9833\n",
            "Epoch 169/200\n",
            "120/120 [==============================] - 0s 282us/step - loss: 0.0793 - acc: 0.9833\n",
            "Epoch 170/200\n",
            "120/120 [==============================] - 0s 278us/step - loss: 0.0793 - acc: 0.9833\n",
            "Epoch 171/200\n",
            "120/120 [==============================] - 0s 251us/step - loss: 0.0806 - acc: 0.9833\n",
            "Epoch 172/200\n",
            "120/120 [==============================] - 0s 242us/step - loss: 0.0830 - acc: 0.9833\n",
            "Epoch 173/200\n",
            "120/120 [==============================] - 0s 276us/step - loss: 0.0773 - acc: 0.9833\n",
            "Epoch 174/200\n",
            "120/120 [==============================] - 0s 269us/step - loss: 0.0776 - acc: 0.9833\n",
            "Epoch 175/200\n",
            "120/120 [==============================] - 0s 265us/step - loss: 0.0776 - acc: 0.9833\n",
            "Epoch 176/200\n",
            "120/120 [==============================] - 0s 286us/step - loss: 0.0794 - acc: 0.9833\n",
            "Epoch 177/200\n",
            "120/120 [==============================] - 0s 245us/step - loss: 0.0766 - acc: 0.9833\n",
            "Epoch 178/200\n",
            "120/120 [==============================] - 0s 238us/step - loss: 0.0762 - acc: 0.9833\n",
            "Epoch 179/200\n",
            "120/120 [==============================] - 0s 276us/step - loss: 0.0752 - acc: 0.9833\n",
            "Epoch 180/200\n",
            "120/120 [==============================] - 0s 229us/step - loss: 0.0755 - acc: 0.9833\n",
            "Epoch 181/200\n",
            "120/120 [==============================] - 0s 295us/step - loss: 0.0741 - acc: 0.9833\n",
            "Epoch 182/200\n",
            "120/120 [==============================] - 0s 297us/step - loss: 0.0745 - acc: 0.9833\n",
            "Epoch 183/200\n",
            "120/120 [==============================] - 0s 275us/step - loss: 0.0742 - acc: 0.9833\n",
            "Epoch 184/200\n",
            "120/120 [==============================] - 0s 238us/step - loss: 0.0746 - acc: 0.9833\n",
            "Epoch 185/200\n",
            "120/120 [==============================] - 0s 255us/step - loss: 0.0737 - acc: 0.9833\n",
            "Epoch 186/200\n",
            "120/120 [==============================] - 0s 258us/step - loss: 0.0742 - acc: 0.9833\n",
            "Epoch 187/200\n",
            "120/120 [==============================] - 0s 281us/step - loss: 0.0718 - acc: 0.9833\n",
            "Epoch 188/200\n",
            "120/120 [==============================] - 0s 315us/step - loss: 0.0733 - acc: 0.9833\n",
            "Epoch 189/200\n",
            "120/120 [==============================] - 0s 242us/step - loss: 0.0777 - acc: 0.9833\n",
            "Epoch 190/200\n",
            "120/120 [==============================] - 0s 251us/step - loss: 0.0714 - acc: 0.9833\n",
            "Epoch 191/200\n",
            "120/120 [==============================] - 0s 258us/step - loss: 0.0734 - acc: 0.9833\n",
            "Epoch 192/200\n",
            "120/120 [==============================] - 0s 246us/step - loss: 0.0715 - acc: 0.9833\n",
            "Epoch 193/200\n",
            "120/120 [==============================] - 0s 242us/step - loss: 0.0707 - acc: 0.9833\n",
            "Epoch 194/200\n",
            "120/120 [==============================] - 0s 283us/step - loss: 0.0714 - acc: 0.9833\n",
            "Epoch 195/200\n",
            "120/120 [==============================] - 0s 260us/step - loss: 0.0716 - acc: 0.9833\n",
            "Epoch 196/200\n",
            "120/120 [==============================] - 0s 280us/step - loss: 0.0703 - acc: 0.9833\n",
            "Epoch 197/200\n",
            "120/120 [==============================] - 0s 271us/step - loss: 0.0742 - acc: 0.9833\n",
            "Epoch 198/200\n",
            "120/120 [==============================] - 0s 276us/step - loss: 0.0696 - acc: 0.9833\n",
            "Epoch 199/200\n",
            "120/120 [==============================] - 0s 255us/step - loss: 0.0690 - acc: 0.9833\n",
            "Epoch 200/200\n",
            "120/120 [==============================] - 0s 270us/step - loss: 0.0694 - acc: 0.9833\n"
          ],
          "name": "stdout"
        },
        {
          "output_type": "execute_result",
          "data": {
            "text/plain": [
              "<keras.callbacks.History at 0x7f200a636ef0>"
            ]
          },
          "metadata": {
            "tags": []
          },
          "execution_count": 13
        }
      ]
    },
    {
      "cell_type": "code",
      "metadata": {
        "id": "mRzUWiviPx-C",
        "colab_type": "code",
        "colab": {
          "base_uri": "https://localhost:8080/",
          "height": 67
        },
        "outputId": "867060ce-ff48-4130-802d-e50cbe81a18f"
      },
      "source": [
        "results = model.evaluate(x_test, y_test)\n",
        "\n",
        "print(f\"Test set loss: {results[0]:.4f}\")\n",
        "print(f\"Test set accuracy: {results[1]:.4f}\")\n",
        "\n",
        "tf_predictions = model.predict(x_test)\n",
        "\n",
        "# TODO \n",
        "#  take predictions to categorical\n",
        "#  output keras predictions to txt file\n",
        "#  confusion matrices\n",
        "#  report"
      ],
      "execution_count": 14,
      "outputs": [
        {
          "output_type": "stream",
          "text": [
            "\r30/30 [==============================] - 0s 1ms/step\n",
            "Test set loss: 0.1330\n",
            "Test set accuracy: 0.9000\n"
          ],
          "name": "stdout"
        }
      ]
    },
    {
      "cell_type": "code",
      "metadata": {
        "id": "n49fDbIowyBY",
        "colab_type": "code",
        "colab": {}
      },
      "source": [
        "def vec_to_cat(vec):\n",
        "  if np.array_equal(vec, [1, 0, 0]):\n",
        "      return \"Iris-setosa\"\n",
        "  elif np.array_equal(vec, [0, 1, 0]):\n",
        "    return \"Iris-versicolor\"\n",
        "  elif np.array_equal(vec, [0, 0, 1]):\n",
        "    return \"Iris-virginica\"\n",
        "  \n",
        "preds_as_strings = []\n",
        "for pred in tf_predictions:\n",
        "  biggest_val = -1\n",
        "  pred_index = -1\n",
        "  for i, val in enumerate(pred):\n",
        "    if val > biggest_val:\n",
        "      biggest_val = val\n",
        "      pred_index = i\n",
        "  pred = np.zeros(3)\n",
        "  pred[pred_index] = 1\n",
        "  preds_as_strings.append(vec_to_cat(pred))\n",
        "  "
      ],
      "execution_count": 0,
      "outputs": []
    },
    {
      "cell_type": "code",
      "metadata": {
        "id": "i9P6Luq2zO-6",
        "colab_type": "code",
        "colab": {}
      },
      "source": [
        "output_file = open(\"predictions_tf.txt\", \"w\")\n",
        "\n",
        "\n",
        "for inputs, pred in zip(x_test.values, preds_as_strings):\n",
        "  string = f\"{inputs},{pred}\"\n",
        "  output_file.write(string)\n",
        "  \n",
        "output_file.close()"
      ],
      "execution_count": 0,
      "outputs": []
    },
    {
      "cell_type": "code",
      "metadata": {
        "id": "WlKzw_uH0lH_",
        "colab_type": "code",
        "colab": {
          "base_uri": "https://localhost:8080/",
          "height": 54
        },
        "outputId": "70668fbf-31a6-4264-ff09-c09ed5171f63"
      },
      "source": [
        "! cat predictions_tf.txt"
      ],
      "execution_count": 17,
      "outputs": [
        {
          "output_type": "stream",
          "text": [
            "[5.1 3.5 1.4 0.2],Iris-setosa[4.9 3.  1.4 0.2],Iris-setosa[4.7 3.2 1.3 0.2],Iris-setosa[4.6 3.1 1.5 0.2],Iris-setosa[5.  3.6 1.4 0.2],Iris-setosa[5.4 3.9 1.7 0.4],Iris-setosa[4.6 3.4 1.4 0.3],Iris-setosa[5.  3.4 1.5 0.2],Iris-setosa[4.4 2.9 1.4 0.2],Iris-setosa[4.9 3.1 1.5 0.1],Iris-setosa[5.  2.  3.5 1. ],Iris-versicolor[5.9 3.  4.2 1.5],Iris-versicolor[6.  2.2 4.  1. ],Iris-versicolor[6.1 2.9 4.7 1.4],Iris-versicolor[5.6 2.9 3.6 1.3],Iris-versicolor[6.7 3.1 4.4 1.4],Iris-versicolor[5.6 3.  4.5 1.5],Iris-versicolor[5.8 2.7 4.1 1. ],Iris-versicolor[6.2 2.2 4.5 1.5],Iris-virginica[5.6 2.5 3.9 1.1],Iris-versicolor[6.1 3.  4.9 1.8],Iris-virginica[6.4 2.8 5.6 2.1],Iris-virginica[7.2 3.  5.8 1.6],Iris-virginica[7.4 2.8 6.1 1.9],Iris-virginica[7.9 3.8 6.4 2. ],Iris-versicolor[6.4 2.8 5.6 2.2],Iris-virginica[6.3 2.8 5.1 1.5],Iris-versicolor[6.1 2.6 5.6 1.4],Iris-virginica[7.7 3.  6.1 2.3],Iris-virginica[6.3 3.4 5.6 2.4],Iris-virginica"
          ],
          "name": "stdout"
        }
      ]
    },
    {
      "cell_type": "code",
      "metadata": {
        "id": "WhblI3z8xiQB",
        "colab_type": "code",
        "colab": {
          "base_uri": "https://localhost:8080/",
          "height": 101
        },
        "outputId": "f3868dbd-d695-48fb-d316-08e243a40c09"
      },
      "source": [
        "cm = confusion_matrix(test_labels, \n",
        "                      preds_as_strings, \n",
        "                      labels=[\"Iris-setosa\", \"Iris-versicolor\", \"Iris-virginica\"])\n",
        "\n",
        "precision = precision_score(test_labels, \n",
        "                            preds_as_strings, \n",
        "                            labels=[\"Iris-setosa\", \"Iris-versicolor\", \"Iris-virginica\"], \n",
        "                            average='micro')\n",
        "\n",
        "recall = recall_score(test_labels, \n",
        "                      preds_as_strings, \n",
        "                      labels=[\"Iris-setosa\", \"Iris-versicolor\", \"Iris-virginica\"], \n",
        "                      average='micro')\n",
        "print(cm)\n",
        "print(f\"Precision: {precision:.4f}\")\n",
        "print(f\"Recall: {recall:.4f}\")"
      ],
      "execution_count": 18,
      "outputs": [
        {
          "output_type": "stream",
          "text": [
            "[[10  0  0]\n",
            " [ 0  9  1]\n",
            " [ 0  2  8]]\n",
            "Precision: 0.9000\n",
            "Recall: 0.9000\n"
          ],
          "name": "stdout"
        }
      ]
    },
    {
      "cell_type": "code",
      "metadata": {
        "id": "PSEeVvix3yYJ",
        "colab_type": "code",
        "colab": {}
      },
      "source": [
        ""
      ],
      "execution_count": 0,
      "outputs": []
    }
  ]
}