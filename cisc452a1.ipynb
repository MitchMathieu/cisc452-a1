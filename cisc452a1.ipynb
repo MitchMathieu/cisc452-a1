{
  "nbformat": 4,
  "nbformat_minor": 0,
  "metadata": {
    "colab": {
      "name": "cisc452a1.ipynb",
      "provenance": [],
      "collapsed_sections": [],
      "include_colab_link": true
    },
    "kernelspec": {
      "name": "python3",
      "display_name": "Python 3"
    }
  },
  "cells": [
    {
      "cell_type": "markdown",
      "metadata": {
        "id": "view-in-github",
        "colab_type": "text"
      },
      "source": [
        "<a href=\"https://colab.research.google.com/github/MitchMathieu/cisc452-a1/blob/master/cisc452a1.ipynb\" target=\"_parent\"><img src=\"https://colab.research.google.com/assets/colab-badge.svg\" alt=\"Open In Colab\"/></a>"
      ]
    },
    {
      "cell_type": "code",
      "metadata": {
        "id": "Bet8A48etKMD",
        "colab_type": "code",
        "colab": {}
      },
      "source": [
        "import numpy as np\n",
        "import pandas as pd\n",
        "from sklearn.metrics import confusion_matrix, precision_score, recall_score\n",
        "from tqdm import tqdm"
      ],
      "execution_count": 0,
      "outputs": []
    },
    {
      "cell_type": "markdown",
      "metadata": {
        "id": "HmP8kwk0ttMJ",
        "colab_type": "text"
      },
      "source": [
        "# Get Data"
      ]
    },
    {
      "cell_type": "code",
      "metadata": {
        "id": "qwbN6AkvmqaR",
        "colab_type": "code",
        "outputId": "1003dd8e-a2e7-4861-cec5-988a9b0638a7",
        "colab": {
          "base_uri": "https://localhost:8080/",
          "height": 50
        }
      },
      "source": [
        "! git clone https://github.com/MitchMathieu/cisc452-a1.git\n",
        "! ls cisc452-a1"
      ],
      "execution_count": 2,
      "outputs": [
        {
          "output_type": "stream",
          "text": [
            "fatal: destination path 'cisc452-a1' already exists and is not an empty directory.\n",
            "iris_test.txt  iris_train.txt\n"
          ],
          "name": "stdout"
        }
      ]
    },
    {
      "cell_type": "markdown",
      "metadata": {
        "id": "kS-ni8IdXjOM",
        "colab_type": "text"
      },
      "source": [
        "**Data as an array**"
      ]
    },
    {
      "cell_type": "code",
      "metadata": {
        "id": "8WthoI5Y5nog",
        "colab_type": "code",
        "colab": {}
      },
      "source": [
        "train_inputs = []\n",
        "train_labels = []\n",
        "\n",
        "f = open(\"cisc452-a1/iris_train.txt\", 'r')\n",
        "for line in f:\n",
        "  line = line.rstrip().split(',')\n",
        "  train_inputs.append(np.array(line[:-1], dtype=np.float32))\n",
        "  train_labels.append(line[-1])\n",
        "\n",
        "\n",
        "test_inputs = []\n",
        "test_labels = []\n",
        "\n",
        "f = open(\"cisc452-a1/iris_test.txt\", 'r')\n",
        "for line in f:\n",
        "  line = line.rstrip().split(',')\n",
        "  test_inputs.append(np.array(line[:-1], dtype=np.float32))\n",
        "  test_labels.append(line[-1])"
      ],
      "execution_count": 0,
      "outputs": []
    },
    {
      "cell_type": "markdown",
      "metadata": {
        "id": "a5N8qwtmv4WY",
        "colab_type": "text"
      },
      "source": [
        "# Part One: Perceptron from Scratch\n",
        "\n",
        "\n"
      ]
    },
    {
      "cell_type": "code",
      "metadata": {
        "id": "EnWXQKQhSL2q",
        "colab_type": "code",
        "colab": {}
      },
      "source": [
        "class Perceptron(object):\n",
        "\n",
        "  def __init__(self, num_inputs, epochs, learning_rate):\n",
        "    self.epochs = epochs\n",
        "    self.learning_rate = learning_rate\n",
        "    self.weights = np.zeros((num_inputs + 1, 3))\n",
        "    # for pocket\n",
        "    \n",
        "  def cat_to_vector(self, label):\n",
        "    # one hot encode the flower type\n",
        "    if label == \"Iris-setosa\":\n",
        "      return np.array([1, 0, 0], dtype=np.float32)\n",
        "    elif label == \"Iris-versicolor\":\n",
        "      return np.array([0, 1, 0], dtype=np.float32)\n",
        "    elif label == \"Iris-virginica\":\n",
        "      return np.array([0, 0, 1], dtype=np.float32)\n",
        "    \n",
        "  def vector_to_cat(self, vec):\n",
        "    if np.array_equal(vec, [1, 0, 0]):\n",
        "      return \"Iris-setosa\"\n",
        "    elif np.array_equal(vec, [0, 1, 0]):\n",
        "      return \"Iris-versicolor\"\n",
        "    elif np.array_equal(vec, [0, 0, 1]):\n",
        "      return \"Iris-virginica\"\n",
        "    \n",
        "  def get_error(self, label, prediction):\n",
        "    # convert string label to vector\n",
        "    label_vec = self.cat_to_vector(label)\n",
        "    error = []\n",
        "    \n",
        "    for i in range(len(label_vec)):\n",
        "      error.append(label_vec[i]-prediction[i])\n",
        "      \n",
        "    return error\n",
        "    \n",
        "  def adjust_weights(self, error, inputs):\n",
        "    # adjust weights based on error\n",
        "    for i in range(len(error)):\n",
        "      for j, row in enumerate(self.weights):\n",
        "        row[i] += self.learning_rate * error[i] * inputs[j]\n",
        "\n",
        "  def predict(self, inputs):\n",
        "    # get net vector from dot prod of weights and input vec\n",
        "    net = np.dot(inputs, self.weights)\n",
        "    largest_sum = -1\n",
        "    pred = None\n",
        "    # three entries in net represent the sums at each of three output percepts  \n",
        "    for i, sum in enumerate(net):\n",
        "      if sum > largest_sum:\n",
        "        largest_sum = sum\n",
        "        pred = i\n",
        "    # create a prediction vector\n",
        "    Y = np.zeros(3)\n",
        "    Y[pred] = 1\n",
        "    # Y vec of 3 binary values representing fired/not fired for each percept\n",
        "    return Y\n",
        "\n",
        "  def train(self, training_inputs, labels):\n",
        "    pocket = self.weights\n",
        "    best_run = 0\n",
        "    current_run = 0\n",
        "    for _ in tqdm(range(self.epochs)):\n",
        "      # create one iterable from inputs and labels\n",
        "      for inputs, label in zip(training_inputs, labels):\n",
        "        # add x0 to the input vector\n",
        "        inputs = np.insert(inputs, 0, 1)\n",
        "        # predict and adjust weights\n",
        "        prediction = self.predict(inputs)\n",
        "        error = self.get_error(label, prediction)\n",
        "        # check the error and update the pocket\n",
        "        if np.array_equal(error, [0, 0, 0]):\n",
        "          current_run += 1\n",
        "        else:\n",
        "          if current_run > best_run:\n",
        "            best_run = current_run\n",
        "            pocket = self.weights\n",
        "          current_run = 0\n",
        "        self.adjust_weights(error, inputs)\n",
        "        \n",
        "    # after all training, set the weight equal to what's in the pocket\n",
        "    self.weights = pocket\n",
        "\n",
        "  def test(self, test_inputs, labels):\n",
        "    # open a file to write predictions to\n",
        "    output_file = open(\"predictions_perceptron.txt\", 'w')\n",
        "    predictions = []\n",
        "    \n",
        "    correct_predictions = 0.0\n",
        "    # create one iterable from inputs and labels\n",
        "    for inputs, label in zip(test_inputs, labels):\n",
        "      # add x0 to the input vector\n",
        "      inputs = np.insert(inputs, 0, 1)\n",
        "      # predict and write to file\n",
        "      prediction = self.predict(inputs)\n",
        "      # write prediction to output fileand append to list\n",
        "      output_file.write(f\"{str(inputs)},{self.vector_to_cat(prediction)}\\n\")\n",
        "      predictions.append(self.vector_to_cat(prediction))\n",
        "      # compare prediction to true label\n",
        "      desired_output = self.cat_to_vector(label)\n",
        "\n",
        "      if np.array_equal(prediction, desired_output):\n",
        "        correct_predictions += 1.0\n",
        "    \n",
        "    output_file.close()\n",
        "        \n",
        "    print(f\"Number of inputs: {len(test_inputs)}\")\n",
        "    print(f\"Correct predictions: {correct_predictions}\")\n",
        "    print(f\"Accuracy: {correct_predictions / float(len(labels))}%\")\n",
        "    return predictions"
      ],
      "execution_count": 0,
      "outputs": []
    },
    {
      "cell_type": "markdown",
      "metadata": {
        "id": "lEfaZ-wm4SbW",
        "colab_type": "text"
      },
      "source": [
        "## Training"
      ]
    },
    {
      "cell_type": "code",
      "metadata": {
        "id": "iefA-eK6gFkD",
        "colab_type": "code",
        "outputId": "14bda01a-b390-4836-a289-10d6e825f01a",
        "colab": {
          "base_uri": "https://localhost:8080/",
          "height": 34
        }
      },
      "source": [
        "# instantiate the perceptron class\n",
        "perceptron = Perceptron(4, 750, 0.5)\n",
        "\n",
        "#train train train \n",
        "perceptron.train(train_inputs, train_labels)"
      ],
      "execution_count": 5,
      "outputs": [
        {
          "output_type": "stream",
          "text": [
            "100%|██████████| 750/750 [00:07<00:00, 97.30it/s] \n"
          ],
          "name": "stderr"
        }
      ]
    },
    {
      "cell_type": "markdown",
      "metadata": {
        "id": "N2FzWflS0oe-",
        "colab_type": "text"
      },
      "source": [
        "## Testing"
      ]
    },
    {
      "cell_type": "code",
      "metadata": {
        "id": "CjGJhbPY0rWN",
        "colab_type": "code",
        "outputId": "3e2c66a3-664b-444b-edfc-27bf2df67ae2",
        "colab": {
          "base_uri": "https://localhost:8080/",
          "height": 67
        }
      },
      "source": [
        "perceptron_predictions = perceptron.test(test_inputs, test_labels)\n",
        "\n",
        "# need ot capture the data coming back"
      ],
      "execution_count": 6,
      "outputs": [
        {
          "output_type": "stream",
          "text": [
            "Number of inputs: 30\n",
            "Correct predictions: 29.0\n",
            "Accuracy: 0.9666666666666667%\n"
          ],
          "name": "stdout"
        }
      ]
    },
    {
      "cell_type": "code",
      "metadata": {
        "id": "f-M73ijn8-IX",
        "colab_type": "code",
        "colab": {
          "base_uri": "https://localhost:8080/",
          "height": 521
        },
        "outputId": "0190122d-4a43-468d-af84-66b0c8dabd53"
      },
      "source": [
        "! cat predictions_perceptron.txt"
      ],
      "execution_count": 7,
      "outputs": [
        {
          "output_type": "stream",
          "text": [
            "[1.  5.1 3.5 1.4 0.2],Iris-setosa\n",
            "[1.  4.9 3.  1.4 0.2],Iris-setosa\n",
            "[1.  4.7 3.2 1.3 0.2],Iris-setosa\n",
            "[1.  4.6 3.1 1.5 0.2],Iris-setosa\n",
            "[1.  5.  3.6 1.4 0.2],Iris-setosa\n",
            "[1.  5.4 3.9 1.7 0.4],Iris-setosa\n",
            "[1.  4.6 3.4 1.4 0.3],Iris-setosa\n",
            "[1.  5.  3.4 1.5 0.2],Iris-setosa\n",
            "[1.  4.4 2.9 1.4 0.2],Iris-setosa\n",
            "[1.  4.9 3.1 1.5 0.1],Iris-setosa\n",
            "[1.  5.  2.  3.5 1. ],Iris-versicolor\n",
            "[1.  5.9 3.  4.2 1.5],Iris-versicolor\n",
            "[1.  6.  2.2 4.  1. ],Iris-versicolor\n",
            "[1.  6.1 2.9 4.7 1.4],Iris-versicolor\n",
            "[1.  5.6 2.9 3.6 1.3],Iris-versicolor\n",
            "[1.  6.7 3.1 4.4 1.4],Iris-versicolor\n",
            "[1.  5.6 3.  4.5 1.5],Iris-versicolor\n",
            "[1.  5.8 2.7 4.1 1. ],Iris-versicolor\n",
            "[1.  6.2 2.2 4.5 1.5],Iris-virginica\n",
            "[1.  5.6 2.5 3.9 1.1],Iris-versicolor\n",
            "[1.  6.1 3.  4.9 1.8],Iris-virginica\n",
            "[1.  6.4 2.8 5.6 2.1],Iris-virginica\n",
            "[1.  7.2 3.  5.8 1.6],Iris-virginica\n",
            "[1.  7.4 2.8 6.1 1.9],Iris-virginica\n",
            "[1.  7.9 3.8 6.4 2. ],Iris-virginica\n",
            "[1.  6.4 2.8 5.6 2.2],Iris-virginica\n",
            "[1.  6.3 2.8 5.1 1.5],Iris-virginica\n",
            "[1.  6.1 2.6 5.6 1.4],Iris-virginica\n",
            "[1.  7.7 3.  6.1 2.3],Iris-virginica\n",
            "[1.  6.3 3.4 5.6 2.4],Iris-virginica\n"
          ],
          "name": "stdout"
        }
      ]
    },
    {
      "cell_type": "markdown",
      "metadata": {
        "id": "qHBED_5KUS1d",
        "colab_type": "text"
      },
      "source": [
        "**Confusion Matrix**"
      ]
    },
    {
      "cell_type": "code",
      "metadata": {
        "id": "oXnKpf6HURoo",
        "colab_type": "code",
        "colab": {
          "base_uri": "https://localhost:8080/",
          "height": 101
        },
        "outputId": "5b774c1e-b042-491c-9673-b56be5c976d8"
      },
      "source": [
        "cm = confusion_matrix(test_labels, \n",
        "                      perceptron_predictions, \n",
        "                      labels=[\"Iris-setosa\", \"Iris-versicolor\", \"Iris-virginica\"])\n",
        "\n",
        "precision = precision_score(test_labels, \n",
        "                            perceptron_predictions, \n",
        "                            labels=[\"Iris-setosa\", \"Iris-versicolor\", \"Iris-virginica\"], \n",
        "                            average='micro')\n",
        "\n",
        "recall = recall_score(test_labels, \n",
        "                      perceptron_predictions, \n",
        "                      labels=[\"Iris-setosa\", \"Iris-versicolor\", \"Iris-virginica\"], \n",
        "                      average='micro')\n",
        "\n",
        "print(cm)\n",
        "print(f\"Precision: {precision:.4f}\")\n",
        "print(f\"Recall: {recall:.4f}\")"
      ],
      "execution_count": 8,
      "outputs": [
        {
          "output_type": "stream",
          "text": [
            "[[10  0  0]\n",
            " [ 0  9  1]\n",
            " [ 0  0 10]]\n",
            "Precision: 0.9667\n",
            "Recall: 0.9667\n"
          ],
          "name": "stdout"
        }
      ]
    },
    {
      "cell_type": "markdown",
      "metadata": {
        "id": "9Q-_yp9Kbzt4",
        "colab_type": "text"
      },
      "source": [
        "# Part Two: Using ANN Libraries"
      ]
    },
    {
      "cell_type": "code",
      "metadata": {
        "id": "28VU0vFN--8f",
        "colab_type": "code",
        "colab": {
          "base_uri": "https://localhost:8080/",
          "height": 34
        },
        "outputId": "93fef7ed-229b-4553-d33e-0aeb4c800179"
      },
      "source": [
        "from sklearn.preprocessing import OneHotEncoder\n",
        "from keras.models import Sequential\n",
        "from keras.layers import Dense\n",
        "from keras.optimizers import Adam"
      ],
      "execution_count": 9,
      "outputs": [
        {
          "output_type": "stream",
          "text": [
            "Using TensorFlow backend.\n"
          ],
          "name": "stderr"
        }
      ]
    },
    {
      "cell_type": "markdown",
      "metadata": {
        "id": "3d5hhWIZLLuV",
        "colab_type": "text"
      },
      "source": [
        "**Getting Data**"
      ]
    },
    {
      "cell_type": "code",
      "metadata": {
        "id": "AEqFxbIGB-IZ",
        "colab_type": "code",
        "colab": {}
      },
      "source": [
        "train = pd.read_csv(\"cisc452-a1/iris_train.txt\", header=None)\n",
        "test = pd.read_csv(\"cisc452-a1/iris_test.txt\", header=None)\n",
        "\n",
        "x_train = train.iloc[:,0:4]\n",
        "y_train = train.iloc[:,4]\n",
        "x_test = test.iloc[:,0:4]\n",
        "y_test = test.iloc[:,4]"
      ],
      "execution_count": 0,
      "outputs": []
    },
    {
      "cell_type": "markdown",
      "metadata": {
        "id": "qK7YsGxBXi71",
        "colab_type": "text"
      },
      "source": [
        "**Convert categorical labels to 3-dimensional vectors**"
      ]
    },
    {
      "cell_type": "code",
      "metadata": {
        "id": "GWYjM5zLNYW_",
        "colab_type": "code",
        "colab": {}
      },
      "source": [
        "y_train = pd.get_dummies(y_train)\n",
        "y_test = pd.get_dummies(y_test)"
      ],
      "execution_count": 0,
      "outputs": []
    },
    {
      "cell_type": "markdown",
      "metadata": {
        "id": "_ta1r1rtNc89",
        "colab_type": "text"
      },
      "source": [
        "## Training the model"
      ]
    },
    {
      "cell_type": "markdown",
      "metadata": {
        "id": "7qLdh9XKLDqo",
        "colab_type": "text"
      },
      "source": [
        "**Make the model**"
      ]
    },
    {
      "cell_type": "code",
      "metadata": {
        "id": "LrP-ihpENzGY",
        "colab_type": "code",
        "colab": {
          "base_uri": "https://localhost:8080/",
          "height": 440
        },
        "outputId": "fede4aef-9a9a-4785-936d-13619a9a8958"
      },
      "source": [
        "model = Sequential()\n",
        "\n",
        "model.add(Dense(10, input_shape=(4,), activation='relu', name='l1'))\n",
        "model.add(Dense(3, activation='softmax', name='output'))\n",
        "\n",
        "optimizer = Adam(lr=0.001)\n",
        "model.compile(optimizer, loss='categorical_crossentropy', metrics=['accuracy'])\n",
        "\n",
        "print('Neural Network Model Summary: ')\n",
        "print(model.summary())"
      ],
      "execution_count": 12,
      "outputs": [
        {
          "output_type": "stream",
          "text": [
            "WARNING:tensorflow:From /usr/local/lib/python3.6/dist-packages/keras/backend/tensorflow_backend.py:66: The name tf.get_default_graph is deprecated. Please use tf.compat.v1.get_default_graph instead.\n",
            "\n",
            "WARNING:tensorflow:From /usr/local/lib/python3.6/dist-packages/keras/backend/tensorflow_backend.py:541: The name tf.placeholder is deprecated. Please use tf.compat.v1.placeholder instead.\n",
            "\n",
            "WARNING:tensorflow:From /usr/local/lib/python3.6/dist-packages/keras/backend/tensorflow_backend.py:4432: The name tf.random_uniform is deprecated. Please use tf.random.uniform instead.\n",
            "\n",
            "WARNING:tensorflow:From /usr/local/lib/python3.6/dist-packages/keras/optimizers.py:793: The name tf.train.Optimizer is deprecated. Please use tf.compat.v1.train.Optimizer instead.\n",
            "\n",
            "WARNING:tensorflow:From /usr/local/lib/python3.6/dist-packages/keras/backend/tensorflow_backend.py:3576: The name tf.log is deprecated. Please use tf.math.log instead.\n",
            "\n",
            "Neural Network Model Summary: \n",
            "Model: \"sequential_1\"\n",
            "_________________________________________________________________\n",
            "Layer (type)                 Output Shape              Param #   \n",
            "=================================================================\n",
            "l1 (Dense)                   (None, 10)                50        \n",
            "_________________________________________________________________\n",
            "output (Dense)               (None, 3)                 33        \n",
            "=================================================================\n",
            "Total params: 83\n",
            "Trainable params: 83\n",
            "Non-trainable params: 0\n",
            "_________________________________________________________________\n",
            "None\n"
          ],
          "name": "stdout"
        }
      ]
    },
    {
      "cell_type": "code",
      "metadata": {
        "id": "W6eCqpZdNymY",
        "colab_type": "code",
        "colab": {
          "base_uri": "https://localhost:8080/",
          "height": 1000
        },
        "outputId": "29904d2d-1378-4e45-b398-91730867f5b1"
      },
      "source": [
        "model.fit(x_train, y_train, verbose=1, batch_size=5, epochs=200)"
      ],
      "execution_count": 13,
      "outputs": [
        {
          "output_type": "stream",
          "text": [
            "WARNING:tensorflow:From /usr/local/lib/python3.6/dist-packages/tensorflow/python/ops/math_grad.py:1250: add_dispatch_support.<locals>.wrapper (from tensorflow.python.ops.array_ops) is deprecated and will be removed in a future version.\n",
            "Instructions for updating:\n",
            "Use tf.where in 2.0, which has the same broadcast rule as np.where\n",
            "WARNING:tensorflow:From /usr/local/lib/python3.6/dist-packages/keras/backend/tensorflow_backend.py:1033: The name tf.assign_add is deprecated. Please use tf.compat.v1.assign_add instead.\n",
            "\n",
            "Epoch 1/200\n",
            "120/120 [==============================] - 0s 2ms/step - loss: 1.6998 - acc: 0.3333\n",
            "Epoch 2/200\n",
            "120/120 [==============================] - 0s 268us/step - loss: 1.3653 - acc: 0.3417\n",
            "Epoch 3/200\n",
            "120/120 [==============================] - 0s 297us/step - loss: 1.1758 - acc: 0.4000\n",
            "Epoch 4/200\n",
            "120/120 [==============================] - 0s 242us/step - loss: 1.0554 - acc: 0.3583\n",
            "Epoch 5/200\n",
            "120/120 [==============================] - 0s 276us/step - loss: 0.9908 - acc: 0.4000\n",
            "Epoch 6/200\n",
            "120/120 [==============================] - 0s 258us/step - loss: 0.9385 - acc: 0.3917\n",
            "Epoch 7/200\n",
            "120/120 [==============================] - 0s 257us/step - loss: 0.8964 - acc: 0.4000\n",
            "Epoch 8/200\n",
            "120/120 [==============================] - 0s 273us/step - loss: 0.8610 - acc: 0.4250\n",
            "Epoch 9/200\n",
            "120/120 [==============================] - 0s 261us/step - loss: 0.8345 - acc: 0.6833\n",
            "Epoch 10/200\n",
            "120/120 [==============================] - 0s 292us/step - loss: 0.7993 - acc: 0.7083\n",
            "Epoch 11/200\n",
            "120/120 [==============================] - 0s 315us/step - loss: 0.7717 - acc: 0.7583\n",
            "Epoch 12/200\n",
            "120/120 [==============================] - 0s 260us/step - loss: 0.7461 - acc: 0.7083\n",
            "Epoch 13/200\n",
            "120/120 [==============================] - 0s 259us/step - loss: 0.7199 - acc: 0.7750\n",
            "Epoch 14/200\n",
            "120/120 [==============================] - 0s 307us/step - loss: 0.7000 - acc: 0.8750\n",
            "Epoch 15/200\n",
            "120/120 [==============================] - 0s 286us/step - loss: 0.6822 - acc: 0.9333\n",
            "Epoch 16/200\n",
            "120/120 [==============================] - 0s 293us/step - loss: 0.6582 - acc: 0.8417\n",
            "Epoch 17/200\n",
            "120/120 [==============================] - 0s 267us/step - loss: 0.6392 - acc: 0.8833\n",
            "Epoch 18/200\n",
            "120/120 [==============================] - 0s 269us/step - loss: 0.6234 - acc: 0.8167\n",
            "Epoch 19/200\n",
            "120/120 [==============================] - 0s 271us/step - loss: 0.6038 - acc: 0.9000\n",
            "Epoch 20/200\n",
            "120/120 [==============================] - 0s 283us/step - loss: 0.5934 - acc: 0.9583\n",
            "Epoch 21/200\n",
            "120/120 [==============================] - 0s 278us/step - loss: 0.5789 - acc: 0.8833\n",
            "Epoch 22/200\n",
            "120/120 [==============================] - 0s 277us/step - loss: 0.5645 - acc: 0.9417\n",
            "Epoch 23/200\n",
            "120/120 [==============================] - 0s 280us/step - loss: 0.5554 - acc: 0.8667\n",
            "Epoch 24/200\n",
            "120/120 [==============================] - 0s 281us/step - loss: 0.5407 - acc: 0.9500\n",
            "Epoch 25/200\n",
            "120/120 [==============================] - 0s 280us/step - loss: 0.5287 - acc: 0.9083\n",
            "Epoch 26/200\n",
            "120/120 [==============================] - 0s 303us/step - loss: 0.5147 - acc: 0.9333\n",
            "Epoch 27/200\n",
            "120/120 [==============================] - 0s 305us/step - loss: 0.5098 - acc: 0.9667\n",
            "Epoch 28/200\n",
            "120/120 [==============================] - 0s 288us/step - loss: 0.4953 - acc: 0.8917\n",
            "Epoch 29/200\n",
            "120/120 [==============================] - 0s 281us/step - loss: 0.4845 - acc: 0.9167\n",
            "Epoch 30/200\n",
            "120/120 [==============================] - 0s 271us/step - loss: 0.4773 - acc: 0.9417\n",
            "Epoch 31/200\n",
            "120/120 [==============================] - 0s 280us/step - loss: 0.4683 - acc: 0.9583\n",
            "Epoch 32/200\n",
            "120/120 [==============================] - 0s 278us/step - loss: 0.4582 - acc: 0.9333\n",
            "Epoch 33/200\n",
            "120/120 [==============================] - 0s 283us/step - loss: 0.4499 - acc: 0.9833\n",
            "Epoch 34/200\n",
            "120/120 [==============================] - 0s 311us/step - loss: 0.4372 - acc: 0.9583\n",
            "Epoch 35/200\n",
            "120/120 [==============================] - 0s 277us/step - loss: 0.4368 - acc: 0.9750\n",
            "Epoch 36/200\n",
            "120/120 [==============================] - 0s 270us/step - loss: 0.4232 - acc: 0.9500\n",
            "Epoch 37/200\n",
            "120/120 [==============================] - 0s 284us/step - loss: 0.4149 - acc: 0.9500\n",
            "Epoch 38/200\n",
            "120/120 [==============================] - 0s 261us/step - loss: 0.4093 - acc: 0.9750\n",
            "Epoch 39/200\n",
            "120/120 [==============================] - 0s 282us/step - loss: 0.4010 - acc: 0.9667\n",
            "Epoch 40/200\n",
            "120/120 [==============================] - 0s 323us/step - loss: 0.3965 - acc: 0.9500\n",
            "Epoch 41/200\n",
            "120/120 [==============================] - 0s 292us/step - loss: 0.3892 - acc: 0.9583\n",
            "Epoch 42/200\n",
            "120/120 [==============================] - 0s 323us/step - loss: 0.3904 - acc: 0.9667\n",
            "Epoch 43/200\n",
            "120/120 [==============================] - 0s 336us/step - loss: 0.3731 - acc: 0.9667\n",
            "Epoch 44/200\n",
            "120/120 [==============================] - 0s 329us/step - loss: 0.3689 - acc: 0.9667\n",
            "Epoch 45/200\n",
            "120/120 [==============================] - 0s 338us/step - loss: 0.3612 - acc: 0.9667\n",
            "Epoch 46/200\n",
            "120/120 [==============================] - 0s 282us/step - loss: 0.3541 - acc: 0.9750\n",
            "Epoch 47/200\n",
            "120/120 [==============================] - 0s 295us/step - loss: 0.3498 - acc: 0.9833\n",
            "Epoch 48/200\n",
            "120/120 [==============================] - 0s 257us/step - loss: 0.3482 - acc: 0.9583\n",
            "Epoch 49/200\n",
            "120/120 [==============================] - 0s 304us/step - loss: 0.3382 - acc: 0.9833\n",
            "Epoch 50/200\n",
            "120/120 [==============================] - 0s 304us/step - loss: 0.3390 - acc: 0.9667\n",
            "Epoch 51/200\n",
            "120/120 [==============================] - 0s 334us/step - loss: 0.3267 - acc: 0.9833\n",
            "Epoch 52/200\n",
            "120/120 [==============================] - 0s 281us/step - loss: 0.3251 - acc: 0.9833\n",
            "Epoch 53/200\n",
            "120/120 [==============================] - 0s 311us/step - loss: 0.3239 - acc: 0.9500\n",
            "Epoch 54/200\n",
            "120/120 [==============================] - 0s 316us/step - loss: 0.3100 - acc: 0.9833\n",
            "Epoch 55/200\n",
            "120/120 [==============================] - 0s 343us/step - loss: 0.3056 - acc: 0.9750\n",
            "Epoch 56/200\n",
            "120/120 [==============================] - 0s 400us/step - loss: 0.3001 - acc: 0.9833\n",
            "Epoch 57/200\n",
            "120/120 [==============================] - 0s 313us/step - loss: 0.2954 - acc: 0.9833\n",
            "Epoch 58/200\n",
            "120/120 [==============================] - 0s 274us/step - loss: 0.2926 - acc: 0.9667\n",
            "Epoch 59/200\n",
            "120/120 [==============================] - 0s 263us/step - loss: 0.2861 - acc: 0.9833\n",
            "Epoch 60/200\n",
            "120/120 [==============================] - 0s 308us/step - loss: 0.2817 - acc: 0.9833\n",
            "Epoch 61/200\n",
            "120/120 [==============================] - 0s 285us/step - loss: 0.2765 - acc: 0.9833\n",
            "Epoch 62/200\n",
            "120/120 [==============================] - 0s 285us/step - loss: 0.2728 - acc: 0.9833\n",
            "Epoch 63/200\n",
            "120/120 [==============================] - 0s 288us/step - loss: 0.2689 - acc: 0.9833\n",
            "Epoch 64/200\n",
            "120/120 [==============================] - 0s 278us/step - loss: 0.2685 - acc: 0.9667\n",
            "Epoch 65/200\n",
            "120/120 [==============================] - 0s 323us/step - loss: 0.2612 - acc: 0.9833\n",
            "Epoch 66/200\n",
            "120/120 [==============================] - 0s 306us/step - loss: 0.2602 - acc: 0.9833\n",
            "Epoch 67/200\n",
            "120/120 [==============================] - 0s 360us/step - loss: 0.2536 - acc: 0.9750\n",
            "Epoch 68/200\n",
            "120/120 [==============================] - 0s 326us/step - loss: 0.2515 - acc: 0.9750\n",
            "Epoch 69/200\n",
            "120/120 [==============================] - 0s 314us/step - loss: 0.2456 - acc: 0.9833\n",
            "Epoch 70/200\n",
            "120/120 [==============================] - 0s 309us/step - loss: 0.2432 - acc: 0.9833\n",
            "Epoch 71/200\n",
            "120/120 [==============================] - 0s 275us/step - loss: 0.2423 - acc: 0.9750\n",
            "Epoch 72/200\n",
            "120/120 [==============================] - 0s 304us/step - loss: 0.2387 - acc: 0.9833\n",
            "Epoch 73/200\n",
            "120/120 [==============================] - 0s 337us/step - loss: 0.2329 - acc: 0.9833\n",
            "Epoch 74/200\n",
            "120/120 [==============================] - 0s 317us/step - loss: 0.2282 - acc: 0.9833\n",
            "Epoch 75/200\n",
            "120/120 [==============================] - 0s 279us/step - loss: 0.2243 - acc: 0.9833\n",
            "Epoch 76/200\n",
            "120/120 [==============================] - 0s 273us/step - loss: 0.2244 - acc: 0.9833\n",
            "Epoch 77/200\n",
            "120/120 [==============================] - 0s 259us/step - loss: 0.2202 - acc: 0.9833\n",
            "Epoch 78/200\n",
            "120/120 [==============================] - 0s 271us/step - loss: 0.2157 - acc: 0.9750\n",
            "Epoch 79/200\n",
            "120/120 [==============================] - 0s 284us/step - loss: 0.2163 - acc: 0.9833\n",
            "Epoch 80/200\n",
            "120/120 [==============================] - 0s 291us/step - loss: 0.2091 - acc: 0.9833\n",
            "Epoch 81/200\n",
            "120/120 [==============================] - 0s 307us/step - loss: 0.2089 - acc: 0.9750\n",
            "Epoch 82/200\n",
            "120/120 [==============================] - 0s 248us/step - loss: 0.2054 - acc: 0.9833\n",
            "Epoch 83/200\n",
            "120/120 [==============================] - 0s 273us/step - loss: 0.2016 - acc: 0.9833\n",
            "Epoch 84/200\n",
            "120/120 [==============================] - 0s 295us/step - loss: 0.1982 - acc: 0.9833\n",
            "Epoch 85/200\n",
            "120/120 [==============================] - 0s 259us/step - loss: 0.1969 - acc: 0.9833\n",
            "Epoch 86/200\n",
            "120/120 [==============================] - 0s 276us/step - loss: 0.1982 - acc: 0.9750\n",
            "Epoch 87/200\n",
            "120/120 [==============================] - 0s 294us/step - loss: 0.1932 - acc: 0.9833\n",
            "Epoch 88/200\n",
            "120/120 [==============================] - 0s 297us/step - loss: 0.1891 - acc: 0.9750\n",
            "Epoch 89/200\n",
            "120/120 [==============================] - 0s 260us/step - loss: 0.1852 - acc: 0.9833\n",
            "Epoch 90/200\n",
            "120/120 [==============================] - 0s 257us/step - loss: 0.1827 - acc: 0.9833\n",
            "Epoch 91/200\n",
            "120/120 [==============================] - 0s 268us/step - loss: 0.1814 - acc: 0.9833\n",
            "Epoch 92/200\n",
            "120/120 [==============================] - 0s 269us/step - loss: 0.1777 - acc: 0.9833\n",
            "Epoch 93/200\n",
            "120/120 [==============================] - 0s 270us/step - loss: 0.1754 - acc: 0.9833\n",
            "Epoch 94/200\n",
            "120/120 [==============================] - 0s 302us/step - loss: 0.1737 - acc: 0.9833\n",
            "Epoch 95/200\n",
            "120/120 [==============================] - 0s 289us/step - loss: 0.1737 - acc: 0.9833\n",
            "Epoch 96/200\n",
            "120/120 [==============================] - 0s 285us/step - loss: 0.1734 - acc: 0.9750\n",
            "Epoch 97/200\n",
            "120/120 [==============================] - 0s 297us/step - loss: 0.1709 - acc: 0.9750\n",
            "Epoch 98/200\n",
            "120/120 [==============================] - 0s 286us/step - loss: 0.1664 - acc: 0.9833\n",
            "Epoch 99/200\n",
            "120/120 [==============================] - 0s 295us/step - loss: 0.1656 - acc: 0.9750\n",
            "Epoch 100/200\n",
            "120/120 [==============================] - 0s 320us/step - loss: 0.1623 - acc: 0.9833\n",
            "Epoch 101/200\n",
            "120/120 [==============================] - 0s 292us/step - loss: 0.1616 - acc: 0.9750\n",
            "Epoch 102/200\n",
            "120/120 [==============================] - 0s 281us/step - loss: 0.1583 - acc: 0.9833\n",
            "Epoch 103/200\n",
            "120/120 [==============================] - 0s 279us/step - loss: 0.1591 - acc: 0.9833\n",
            "Epoch 104/200\n",
            "120/120 [==============================] - 0s 290us/step - loss: 0.1549 - acc: 0.9833\n",
            "Epoch 105/200\n",
            "120/120 [==============================] - 0s 335us/step - loss: 0.1538 - acc: 0.9750\n",
            "Epoch 106/200\n",
            "120/120 [==============================] - 0s 323us/step - loss: 0.1526 - acc: 0.9833\n",
            "Epoch 107/200\n",
            "120/120 [==============================] - 0s 335us/step - loss: 0.1485 - acc: 0.9833\n",
            "Epoch 108/200\n",
            "120/120 [==============================] - 0s 345us/step - loss: 0.1464 - acc: 0.9833\n",
            "Epoch 109/200\n",
            "120/120 [==============================] - 0s 303us/step - loss: 0.1471 - acc: 0.9833\n",
            "Epoch 110/200\n",
            "120/120 [==============================] - 0s 292us/step - loss: 0.1446 - acc: 0.9750\n",
            "Epoch 111/200\n",
            "120/120 [==============================] - 0s 296us/step - loss: 0.1423 - acc: 0.9833\n",
            "Epoch 112/200\n",
            "120/120 [==============================] - 0s 327us/step - loss: 0.1401 - acc: 0.9833\n",
            "Epoch 113/200\n",
            "120/120 [==============================] - 0s 274us/step - loss: 0.1403 - acc: 0.9750\n",
            "Epoch 114/200\n",
            "120/120 [==============================] - 0s 326us/step - loss: 0.1378 - acc: 0.9833\n",
            "Epoch 115/200\n",
            "120/120 [==============================] - 0s 315us/step - loss: 0.1397 - acc: 0.9750\n",
            "Epoch 116/200\n",
            "120/120 [==============================] - 0s 303us/step - loss: 0.1345 - acc: 0.9833\n",
            "Epoch 117/200\n",
            "120/120 [==============================] - 0s 297us/step - loss: 0.1326 - acc: 0.9833\n",
            "Epoch 118/200\n",
            "120/120 [==============================] - 0s 280us/step - loss: 0.1334 - acc: 0.9833\n",
            "Epoch 119/200\n",
            "120/120 [==============================] - 0s 300us/step - loss: 0.1309 - acc: 0.9833\n",
            "Epoch 120/200\n",
            "120/120 [==============================] - 0s 345us/step - loss: 0.1297 - acc: 0.9833\n",
            "Epoch 121/200\n",
            "120/120 [==============================] - 0s 296us/step - loss: 0.1278 - acc: 0.9833\n",
            "Epoch 122/200\n",
            "120/120 [==============================] - 0s 314us/step - loss: 0.1266 - acc: 0.9750\n",
            "Epoch 123/200\n",
            "120/120 [==============================] - 0s 304us/step - loss: 0.1263 - acc: 0.9833\n",
            "Epoch 124/200\n",
            "120/120 [==============================] - 0s 306us/step - loss: 0.1249 - acc: 0.9833\n",
            "Epoch 125/200\n",
            "120/120 [==============================] - 0s 411us/step - loss: 0.1233 - acc: 0.9833\n",
            "Epoch 126/200\n",
            "120/120 [==============================] - 0s 321us/step - loss: 0.1224 - acc: 0.9833\n",
            "Epoch 127/200\n",
            "120/120 [==============================] - 0s 292us/step - loss: 0.1245 - acc: 0.9833\n",
            "Epoch 128/200\n",
            "120/120 [==============================] - 0s 304us/step - loss: 0.1198 - acc: 0.9833\n",
            "Epoch 129/200\n",
            "120/120 [==============================] - 0s 291us/step - loss: 0.1178 - acc: 0.9833\n",
            "Epoch 130/200\n",
            "120/120 [==============================] - 0s 301us/step - loss: 0.1176 - acc: 0.9833\n",
            "Epoch 131/200\n",
            "120/120 [==============================] - 0s 385us/step - loss: 0.1172 - acc: 0.9833\n",
            "Epoch 132/200\n",
            "120/120 [==============================] - 0s 283us/step - loss: 0.1156 - acc: 0.9750\n",
            "Epoch 133/200\n",
            "120/120 [==============================] - 0s 312us/step - loss: 0.1142 - acc: 0.9833\n",
            "Epoch 134/200\n",
            "120/120 [==============================] - 0s 277us/step - loss: 0.1128 - acc: 0.9833\n",
            "Epoch 135/200\n",
            "120/120 [==============================] - 0s 308us/step - loss: 0.1117 - acc: 0.9833\n",
            "Epoch 136/200\n",
            "120/120 [==============================] - 0s 278us/step - loss: 0.1111 - acc: 0.9833\n",
            "Epoch 137/200\n",
            "120/120 [==============================] - 0s 288us/step - loss: 0.1099 - acc: 0.9833\n",
            "Epoch 138/200\n",
            "120/120 [==============================] - 0s 273us/step - loss: 0.1088 - acc: 0.9833\n",
            "Epoch 139/200\n",
            "120/120 [==============================] - 0s 312us/step - loss: 0.1096 - acc: 0.9833\n",
            "Epoch 140/200\n",
            "120/120 [==============================] - 0s 289us/step - loss: 0.1054 - acc: 0.9833\n",
            "Epoch 141/200\n",
            "120/120 [==============================] - 0s 283us/step - loss: 0.1074 - acc: 0.9833\n",
            "Epoch 142/200\n",
            "120/120 [==============================] - 0s 257us/step - loss: 0.1061 - acc: 0.9833\n",
            "Epoch 143/200\n",
            "120/120 [==============================] - 0s 254us/step - loss: 0.1063 - acc: 0.9833\n",
            "Epoch 144/200\n",
            "120/120 [==============================] - 0s 282us/step - loss: 0.1026 - acc: 0.9833\n",
            "Epoch 145/200\n",
            "120/120 [==============================] - 0s 275us/step - loss: 0.1051 - acc: 0.9750\n",
            "Epoch 146/200\n",
            "120/120 [==============================] - 0s 287us/step - loss: 0.1025 - acc: 0.9833\n",
            "Epoch 147/200\n",
            "120/120 [==============================] - 0s 332us/step - loss: 0.1008 - acc: 0.9833\n",
            "Epoch 148/200\n",
            "120/120 [==============================] - 0s 288us/step - loss: 0.1002 - acc: 0.9833\n",
            "Epoch 149/200\n",
            "120/120 [==============================] - 0s 265us/step - loss: 0.1019 - acc: 0.9917\n",
            "Epoch 150/200\n",
            "120/120 [==============================] - 0s 267us/step - loss: 0.1018 - acc: 0.9750\n",
            "Epoch 151/200\n",
            "120/120 [==============================] - 0s 280us/step - loss: 0.0988 - acc: 0.9833\n",
            "Epoch 152/200\n",
            "120/120 [==============================] - 0s 304us/step - loss: 0.0973 - acc: 0.9833\n",
            "Epoch 153/200\n",
            "120/120 [==============================] - 0s 249us/step - loss: 0.0977 - acc: 0.9750\n",
            "Epoch 154/200\n",
            "120/120 [==============================] - 0s 304us/step - loss: 0.0958 - acc: 0.9833\n",
            "Epoch 155/200\n",
            "120/120 [==============================] - 0s 284us/step - loss: 0.0954 - acc: 0.9833\n",
            "Epoch 156/200\n",
            "120/120 [==============================] - 0s 289us/step - loss: 0.0949 - acc: 0.9833\n",
            "Epoch 157/200\n",
            "120/120 [==============================] - 0s 268us/step - loss: 0.0950 - acc: 0.9833\n",
            "Epoch 158/200\n",
            "120/120 [==============================] - 0s 270us/step - loss: 0.0939 - acc: 0.9833\n",
            "Epoch 159/200\n",
            "120/120 [==============================] - 0s 313us/step - loss: 0.0923 - acc: 0.9833\n",
            "Epoch 160/200\n",
            "120/120 [==============================] - 0s 276us/step - loss: 0.0912 - acc: 0.9833\n",
            "Epoch 161/200\n",
            "120/120 [==============================] - 0s 267us/step - loss: 0.0928 - acc: 0.9833\n",
            "Epoch 162/200\n",
            "120/120 [==============================] - 0s 281us/step - loss: 0.0965 - acc: 0.9750\n",
            "Epoch 163/200\n",
            "120/120 [==============================] - 0s 264us/step - loss: 0.0910 - acc: 0.9833\n",
            "Epoch 164/200\n",
            "120/120 [==============================] - 0s 274us/step - loss: 0.0885 - acc: 0.9833\n",
            "Epoch 165/200\n",
            "120/120 [==============================] - 0s 282us/step - loss: 0.0907 - acc: 0.9917\n",
            "Epoch 166/200\n",
            "120/120 [==============================] - 0s 257us/step - loss: 0.0899 - acc: 0.9750\n",
            "Epoch 167/200\n",
            "120/120 [==============================] - 0s 249us/step - loss: 0.0894 - acc: 0.9833\n",
            "Epoch 168/200\n",
            "120/120 [==============================] - 0s 293us/step - loss: 0.0877 - acc: 0.9833\n",
            "Epoch 169/200\n",
            "120/120 [==============================] - 0s 295us/step - loss: 0.0868 - acc: 0.9917\n",
            "Epoch 170/200\n",
            "120/120 [==============================] - 0s 313us/step - loss: 0.0905 - acc: 0.9750\n",
            "Epoch 171/200\n",
            "120/120 [==============================] - 0s 280us/step - loss: 0.0857 - acc: 0.9917\n",
            "Epoch 172/200\n",
            "120/120 [==============================] - 0s 302us/step - loss: 0.0847 - acc: 0.9833\n",
            "Epoch 173/200\n",
            "120/120 [==============================] - 0s 299us/step - loss: 0.0867 - acc: 0.9833\n",
            "Epoch 174/200\n",
            "120/120 [==============================] - 0s 263us/step - loss: 0.0846 - acc: 0.9833\n",
            "Epoch 175/200\n",
            "120/120 [==============================] - 0s 284us/step - loss: 0.0845 - acc: 0.9833\n",
            "Epoch 176/200\n",
            "120/120 [==============================] - 0s 356us/step - loss: 0.0827 - acc: 0.9833\n",
            "Epoch 177/200\n",
            "120/120 [==============================] - 0s 293us/step - loss: 0.0822 - acc: 0.9833\n",
            "Epoch 178/200\n",
            "120/120 [==============================] - 0s 249us/step - loss: 0.0818 - acc: 0.9833\n",
            "Epoch 179/200\n",
            "120/120 [==============================] - 0s 285us/step - loss: 0.0821 - acc: 0.9833\n",
            "Epoch 180/200\n",
            "120/120 [==============================] - 0s 265us/step - loss: 0.0810 - acc: 0.9833\n",
            "Epoch 181/200\n",
            "120/120 [==============================] - 0s 273us/step - loss: 0.0827 - acc: 0.9917\n",
            "Epoch 182/200\n",
            "120/120 [==============================] - 0s 343us/step - loss: 0.0811 - acc: 0.9750\n",
            "Epoch 183/200\n",
            "120/120 [==============================] - 0s 249us/step - loss: 0.0826 - acc: 0.9750\n",
            "Epoch 184/200\n",
            "120/120 [==============================] - 0s 265us/step - loss: 0.0793 - acc: 0.9833\n",
            "Epoch 185/200\n",
            "120/120 [==============================] - 0s 246us/step - loss: 0.0789 - acc: 0.9833\n",
            "Epoch 186/200\n",
            "120/120 [==============================] - 0s 280us/step - loss: 0.0790 - acc: 0.9833\n",
            "Epoch 187/200\n",
            "120/120 [==============================] - 0s 314us/step - loss: 0.0780 - acc: 0.9833\n",
            "Epoch 188/200\n",
            "120/120 [==============================] - 0s 298us/step - loss: 0.0772 - acc: 0.9833\n",
            "Epoch 189/200\n",
            "120/120 [==============================] - 0s 291us/step - loss: 0.0780 - acc: 0.9917\n",
            "Epoch 190/200\n",
            "120/120 [==============================] - 0s 281us/step - loss: 0.0767 - acc: 0.9833\n",
            "Epoch 191/200\n",
            "120/120 [==============================] - 0s 249us/step - loss: 0.0774 - acc: 0.9833\n",
            "Epoch 192/200\n",
            "120/120 [==============================] - 0s 298us/step - loss: 0.0752 - acc: 0.9833\n",
            "Epoch 193/200\n",
            "120/120 [==============================] - 0s 301us/step - loss: 0.0764 - acc: 0.9833\n",
            "Epoch 194/200\n",
            "120/120 [==============================] - 0s 269us/step - loss: 0.0767 - acc: 0.9833\n",
            "Epoch 195/200\n",
            "120/120 [==============================] - 0s 275us/step - loss: 0.0784 - acc: 0.9833\n",
            "Epoch 196/200\n",
            "120/120 [==============================] - 0s 271us/step - loss: 0.0749 - acc: 0.9750\n",
            "Epoch 197/200\n",
            "120/120 [==============================] - 0s 347us/step - loss: 0.0746 - acc: 0.9833\n",
            "Epoch 198/200\n",
            "120/120 [==============================] - 0s 259us/step - loss: 0.0736 - acc: 0.9917\n",
            "Epoch 199/200\n",
            "120/120 [==============================] - 0s 278us/step - loss: 0.0743 - acc: 0.9750\n",
            "Epoch 200/200\n",
            "120/120 [==============================] - 0s 271us/step - loss: 0.0723 - acc: 0.9833\n"
          ],
          "name": "stdout"
        },
        {
          "output_type": "execute_result",
          "data": {
            "text/plain": [
              "<keras.callbacks.History at 0x7f28e06d1e48>"
            ]
          },
          "metadata": {
            "tags": []
          },
          "execution_count": 13
        }
      ]
    },
    {
      "cell_type": "code",
      "metadata": {
        "id": "mRzUWiviPx-C",
        "colab_type": "code",
        "colab": {
          "base_uri": "https://localhost:8080/",
          "height": 67
        },
        "outputId": "8cd13ad3-54c4-4e28-b56e-b3874a505092"
      },
      "source": [
        "results = model.evaluate(x_test, y_test)\n",
        "\n",
        "print(f\"Test set loss: {results[0]:.4f}\")\n",
        "print(f\"Test set accuracy: {results[1]:.4f}\")\n",
        "\n",
        "tf_predictions = model.predict(x_test)\n",
        "\n",
        "# TODO \n",
        "#  take predictions to categorical\n",
        "#  output keras predictions to txt file\n",
        "#  confusion matrices\n",
        "#  report"
      ],
      "execution_count": 14,
      "outputs": [
        {
          "output_type": "stream",
          "text": [
            "\r30/30 [==============================] - 0s 1ms/step\n",
            "Test set loss: 0.1484\n",
            "Test set accuracy: 0.9000\n"
          ],
          "name": "stdout"
        }
      ]
    },
    {
      "cell_type": "code",
      "metadata": {
        "id": "n49fDbIowyBY",
        "colab_type": "code",
        "colab": {}
      },
      "source": [
        "def vec_to_cat(vec):\n",
        "  if np.array_equal(vec, [1, 0, 0]):\n",
        "      return \"Iris-setosa\"\n",
        "  elif np.array_equal(vec, [0, 1, 0]):\n",
        "    return \"Iris-versicolor\"\n",
        "  elif np.array_equal(vec, [0, 0, 1]):\n",
        "    return \"Iris-virginica\"\n",
        "  \n",
        "preds_as_strings = []\n",
        "for pred in tf_predictions:\n",
        "  biggest_val = -1\n",
        "  pred_index = -1\n",
        "  for i, val in enumerate(pred):\n",
        "    if val > biggest_val:\n",
        "      biggest_val = val\n",
        "      pred_index = i\n",
        "  pred = np.zeros(3)\n",
        "  pred[pred_index] = 1\n",
        "  preds_as_strings.append(vec_to_cat(pred))\n",
        "  "
      ],
      "execution_count": 0,
      "outputs": []
    },
    {
      "cell_type": "code",
      "metadata": {
        "id": "i9P6Luq2zO-6",
        "colab_type": "code",
        "colab": {}
      },
      "source": [
        "output_file = open(\"predictions_tf.txt\", \"w\")\n",
        "\n",
        "\n",
        "for inputs, pred in zip(x_test.values, preds_as_strings):\n",
        "  string = f\"{inputs},{pred}\\n\"\n",
        "  output_file.write(string)\n",
        "  \n",
        "output_file.close()"
      ],
      "execution_count": 0,
      "outputs": []
    },
    {
      "cell_type": "code",
      "metadata": {
        "id": "WlKzw_uH0lH_",
        "colab_type": "code",
        "colab": {
          "base_uri": "https://localhost:8080/",
          "height": 521
        },
        "outputId": "2eb3a2df-50ce-442e-8ce5-850f54cabe69"
      },
      "source": [
        "! cat predictions_tf.txt"
      ],
      "execution_count": 21,
      "outputs": [
        {
          "output_type": "stream",
          "text": [
            "[5.1 3.5 1.4 0.2],Iris-setosa\n",
            "[4.9 3.  1.4 0.2],Iris-setosa\n",
            "[4.7 3.2 1.3 0.2],Iris-setosa\n",
            "[4.6 3.1 1.5 0.2],Iris-setosa\n",
            "[5.  3.6 1.4 0.2],Iris-setosa\n",
            "[5.4 3.9 1.7 0.4],Iris-setosa\n",
            "[4.6 3.4 1.4 0.3],Iris-setosa\n",
            "[5.  3.4 1.5 0.2],Iris-setosa\n",
            "[4.4 2.9 1.4 0.2],Iris-setosa\n",
            "[4.9 3.1 1.5 0.1],Iris-setosa\n",
            "[5.  2.  3.5 1. ],Iris-versicolor\n",
            "[5.9 3.  4.2 1.5],Iris-versicolor\n",
            "[6.  2.2 4.  1. ],Iris-versicolor\n",
            "[6.1 2.9 4.7 1.4],Iris-versicolor\n",
            "[5.6 2.9 3.6 1.3],Iris-versicolor\n",
            "[6.7 3.1 4.4 1.4],Iris-versicolor\n",
            "[5.6 3.  4.5 1.5],Iris-versicolor\n",
            "[5.8 2.7 4.1 1. ],Iris-versicolor\n",
            "[6.2 2.2 4.5 1.5],Iris-virginica\n",
            "[5.6 2.5 3.9 1.1],Iris-versicolor\n",
            "[6.1 3.  4.9 1.8],Iris-virginica\n",
            "[6.4 2.8 5.6 2.1],Iris-virginica\n",
            "[7.2 3.  5.8 1.6],Iris-versicolor\n",
            "[7.4 2.8 6.1 1.9],Iris-virginica\n",
            "[7.9 3.8 6.4 2. ],Iris-virginica\n",
            "[6.4 2.8 5.6 2.2],Iris-virginica\n",
            "[6.3 2.8 5.1 1.5],Iris-versicolor\n",
            "[6.1 2.6 5.6 1.4],Iris-virginica\n",
            "[7.7 3.  6.1 2.3],Iris-virginica\n",
            "[6.3 3.4 5.6 2.4],Iris-virginica\n"
          ],
          "name": "stdout"
        }
      ]
    },
    {
      "cell_type": "code",
      "metadata": {
        "id": "WhblI3z8xiQB",
        "colab_type": "code",
        "colab": {
          "base_uri": "https://localhost:8080/",
          "height": 101
        },
        "outputId": "37343092-6f93-4156-b3e9-ad6681be9790"
      },
      "source": [
        "cm = confusion_matrix(test_labels, \n",
        "                      preds_as_strings, \n",
        "                      labels=[\"Iris-setosa\", \"Iris-versicolor\", \"Iris-virginica\"])\n",
        "\n",
        "precision = precision_score(test_labels, \n",
        "                            preds_as_strings, \n",
        "                            labels=[\"Iris-setosa\", \"Iris-versicolor\", \"Iris-virginica\"], \n",
        "                            average='micro')\n",
        "\n",
        "recall = recall_score(test_labels, \n",
        "                      preds_as_strings, \n",
        "                      labels=[\"Iris-setosa\", \"Iris-versicolor\", \"Iris-virginica\"], \n",
        "                      average='micro')\n",
        "print(cm)\n",
        "print(f\"Precision: {precision:.4f}\")\n",
        "print(f\"Recall: {recall:.4f}\")"
      ],
      "execution_count": 22,
      "outputs": [
        {
          "output_type": "stream",
          "text": [
            "[[10  0  0]\n",
            " [ 0  9  1]\n",
            " [ 0  2  8]]\n",
            "Precision: 0.9000\n",
            "Recall: 0.9000\n"
          ],
          "name": "stdout"
        }
      ]
    },
    {
      "cell_type": "markdown",
      "metadata": {
        "id": "YdeVz_6X7iHH",
        "colab_type": "text"
      },
      "source": [
        "(uncomment to download text files)"
      ]
    },
    {
      "cell_type": "code",
      "metadata": {
        "id": "PSEeVvix3yYJ",
        "colab_type": "code",
        "colab": {}
      },
      "source": [
        "# from google.colab import files\n",
        "# files.download('predictions_perceptron.txt')\n",
        "# files.download('predictions_tf.txt') "
      ],
      "execution_count": 0,
      "outputs": []
    },
    {
      "cell_type": "code",
      "metadata": {
        "id": "HJPxnyTx9lVP",
        "colab_type": "code",
        "colab": {}
      },
      "source": [
        ""
      ],
      "execution_count": 0,
      "outputs": []
    }
  ]
}